{
 "metadata": {
  "language_info": {
   "codemirror_mode": {
    "name": "ipython",
    "version": 3
   },
   "file_extension": ".py",
   "mimetype": "text/x-python",
   "name": "python",
   "nbconvert_exporter": "python",
   "pygments_lexer": "ipython3",
   "version": "3.8.3-final"
  },
  "orig_nbformat": 2,
  "kernelspec": {
   "name": "python3",
   "display_name": "Python 3",
   "language": "python"
  }
 },
 "nbformat": 4,
 "nbformat_minor": 2,
 "cells": [
  {
   "cell_type": "code",
   "execution_count": 62,
   "metadata": {},
   "outputs": [],
   "source": [
    "import numpy as np\n",
    "import pandas as pd\n",
    "import seaborn as sns\n",
    "import matplotlib.pyplot as plt"
   ]
  },
  {
   "cell_type": "code",
   "execution_count": 63,
   "metadata": {},
   "outputs": [],
   "source": [
    "restos_df = pd.read_csv(\"resto_df.csv\")"
   ]
  },
  {
   "cell_type": "code",
   "execution_count": 89,
   "metadata": {},
   "outputs": [
    {
     "output_type": "execute_result",
     "data": {
      "text/plain": [
       "(200, 2)"
      ]
     },
     "metadata": {},
     "execution_count": 89
    }
   ],
   "source": [
    "restos_df.shape"
   ]
  },
  {
   "cell_type": "code",
   "execution_count": 64,
   "metadata": {},
   "outputs": [
    {
     "output_type": "execute_result",
     "data": {
      "text/plain": [
       "   Unnamed  resto_id                                             dishes\n",
       "0        0         0  Mirabelle Leon Beyer Masthuhnbrust Singapur in...\n",
       "1        1         1  Piel Bro's. Lager Scrambled Eggs and Onions FL...\n",
       "2        2         2  3 fried eggs and ham or bacon, bread With Pota...\n",
       "3        3         3  Braised free range chicken fresh polenta Beef ...\n",
       "4        4         4  Spring duckling Cream or Country Gravy Oyster ..."
      ],
      "text/html": "<div>\n<style scoped>\n    .dataframe tbody tr th:only-of-type {\n        vertical-align: middle;\n    }\n\n    .dataframe tbody tr th {\n        vertical-align: top;\n    }\n\n    .dataframe thead th {\n        text-align: right;\n    }\n</style>\n<table border=\"1\" class=\"dataframe\">\n  <thead>\n    <tr style=\"text-align: right;\">\n      <th></th>\n      <th>Unnamed</th>\n      <th>resto_id</th>\n      <th>dishes</th>\n    </tr>\n  </thead>\n  <tbody>\n    <tr>\n      <th>0</th>\n      <td>0</td>\n      <td>0</td>\n      <td>Mirabelle Leon Beyer Masthuhnbrust Singapur in...</td>\n    </tr>\n    <tr>\n      <th>1</th>\n      <td>1</td>\n      <td>1</td>\n      <td>Piel Bro's. Lager Scrambled Eggs and Onions FL...</td>\n    </tr>\n    <tr>\n      <th>2</th>\n      <td>2</td>\n      <td>2</td>\n      <td>3 fried eggs and ham or bacon, bread With Pota...</td>\n    </tr>\n    <tr>\n      <th>3</th>\n      <td>3</td>\n      <td>3</td>\n      <td>Braised free range chicken fresh polenta Beef ...</td>\n    </tr>\n    <tr>\n      <th>4</th>\n      <td>4</td>\n      <td>4</td>\n      <td>Spring duckling Cream or Country Gravy Oyster ...</td>\n    </tr>\n  </tbody>\n</table>\n</div>"
     },
     "metadata": {},
     "execution_count": 64
    }
   ],
   "source": [
    "restos_df.head()"
   ]
  },
  {
   "cell_type": "code",
   "execution_count": 65,
   "metadata": {},
   "outputs": [],
   "source": [
    "restos_df = restos_df.drop([\"Unnamed\"], axis=1)"
   ]
  },
  {
   "cell_type": "code",
   "execution_count": 66,
   "metadata": {},
   "outputs": [
    {
     "output_type": "execute_result",
     "data": {
      "text/plain": [
       "   resto_id                                             dishes\n",
       "0         0  Mirabelle Leon Beyer Masthuhnbrust Singapur in...\n",
       "1         1  Piel Bro's. Lager Scrambled Eggs and Onions FL...\n",
       "2         2  3 fried eggs and ham or bacon, bread With Pota...\n",
       "3         3  Braised free range chicken fresh polenta Beef ...\n",
       "4         4  Spring duckling Cream or Country Gravy Oyster ..."
      ],
      "text/html": "<div>\n<style scoped>\n    .dataframe tbody tr th:only-of-type {\n        vertical-align: middle;\n    }\n\n    .dataframe tbody tr th {\n        vertical-align: top;\n    }\n\n    .dataframe thead th {\n        text-align: right;\n    }\n</style>\n<table border=\"1\" class=\"dataframe\">\n  <thead>\n    <tr style=\"text-align: right;\">\n      <th></th>\n      <th>resto_id</th>\n      <th>dishes</th>\n    </tr>\n  </thead>\n  <tbody>\n    <tr>\n      <th>0</th>\n      <td>0</td>\n      <td>Mirabelle Leon Beyer Masthuhnbrust Singapur in...</td>\n    </tr>\n    <tr>\n      <th>1</th>\n      <td>1</td>\n      <td>Piel Bro's. Lager Scrambled Eggs and Onions FL...</td>\n    </tr>\n    <tr>\n      <th>2</th>\n      <td>2</td>\n      <td>3 fried eggs and ham or bacon, bread With Pota...</td>\n    </tr>\n    <tr>\n      <th>3</th>\n      <td>3</td>\n      <td>Braised free range chicken fresh polenta Beef ...</td>\n    </tr>\n    <tr>\n      <th>4</th>\n      <td>4</td>\n      <td>Spring duckling Cream or Country Gravy Oyster ...</td>\n    </tr>\n  </tbody>\n</table>\n</div>"
     },
     "metadata": {},
     "execution_count": 66
    }
   ],
   "source": [
    "restos_df.head()"
   ]
  },
  {
   "cell_type": "code",
   "execution_count": 67,
   "metadata": {},
   "outputs": [],
   "source": [
    "restos_df[\"dishes\"] = restos_df[\"dishes\"].str.lower()"
   ]
  },
  {
   "cell_type": "code",
   "execution_count": 68,
   "metadata": {},
   "outputs": [
    {
     "output_type": "execute_result",
     "data": {
      "text/plain": [
       "   resto_id                                             dishes\n",
       "0         0  mirabelle leon beyer masthuhnbrust singapur in...\n",
       "1         1  piel bro's. lager scrambled eggs and onions fl...\n",
       "2         2  3 fried eggs and ham or bacon, bread with pota...\n",
       "3         3  braised free range chicken fresh polenta beef ...\n",
       "4         4  spring duckling cream or country gravy oyster ..."
      ],
      "text/html": "<div>\n<style scoped>\n    .dataframe tbody tr th:only-of-type {\n        vertical-align: middle;\n    }\n\n    .dataframe tbody tr th {\n        vertical-align: top;\n    }\n\n    .dataframe thead th {\n        text-align: right;\n    }\n</style>\n<table border=\"1\" class=\"dataframe\">\n  <thead>\n    <tr style=\"text-align: right;\">\n      <th></th>\n      <th>resto_id</th>\n      <th>dishes</th>\n    </tr>\n  </thead>\n  <tbody>\n    <tr>\n      <th>0</th>\n      <td>0</td>\n      <td>mirabelle leon beyer masthuhnbrust singapur in...</td>\n    </tr>\n    <tr>\n      <th>1</th>\n      <td>1</td>\n      <td>piel bro's. lager scrambled eggs and onions fl...</td>\n    </tr>\n    <tr>\n      <th>2</th>\n      <td>2</td>\n      <td>3 fried eggs and ham or bacon, bread with pota...</td>\n    </tr>\n    <tr>\n      <th>3</th>\n      <td>3</td>\n      <td>braised free range chicken fresh polenta beef ...</td>\n    </tr>\n    <tr>\n      <th>4</th>\n      <td>4</td>\n      <td>spring duckling cream or country gravy oyster ...</td>\n    </tr>\n  </tbody>\n</table>\n</div>"
     },
     "metadata": {},
     "execution_count": 68
    }
   ],
   "source": [
    "restos_df.head()"
   ]
  },
  {
   "cell_type": "code",
   "execution_count": 69,
   "metadata": {},
   "outputs": [],
   "source": [
    "import nltk"
   ]
  },
  {
   "cell_type": "code",
   "execution_count": 70,
   "metadata": {},
   "outputs": [
    {
     "output_type": "stream",
     "name": "stderr",
     "text": [
      "[nltk_data] Downloading package punkt to /Users/apple/nltk_data...\n[nltk_data]   Package punkt is already up-to-date!\n[nltk_data] Downloading package wordnet to /Users/apple/nltk_data...\n[nltk_data]   Package wordnet is already up-to-date!\n[nltk_data] Downloading package stopwords to /Users/apple/nltk_data...\n[nltk_data]   Package stopwords is already up-to-date!\n"
     ]
    },
    {
     "output_type": "execute_result",
     "data": {
      "text/plain": [
       "True"
      ]
     },
     "metadata": {},
     "execution_count": 70
    }
   ],
   "source": [
    "nltk.download('punkt')\n",
    "nltk.download('wordnet')\n",
    "nltk.download('stopwords')"
   ]
  },
  {
   "cell_type": "code",
   "execution_count": 71,
   "metadata": {},
   "outputs": [],
   "source": [
    "restos_df[\"dishes\"] = restos_df[\"dishes\"].map(lambda x: nltk.word_tokenize(x))"
   ]
  },
  {
   "cell_type": "code",
   "execution_count": 72,
   "metadata": {},
   "outputs": [
    {
     "output_type": "execute_result",
     "data": {
      "text/plain": [
       "   resto_id                                             dishes\n",
       "0         0  [mirabelle, leon, beyer, masthuhnbrust, singap...\n",
       "1         1  [piel, bro, 's, ., lager, scrambled, eggs, and...\n",
       "2         2  [3, fried, eggs, and, ham, or, bacon, ,, bread...\n",
       "3         3  [braised, free, range, chicken, fresh, polenta...\n",
       "4         4  [spring, duckling, cream, or, country, gravy, ..."
      ],
      "text/html": "<div>\n<style scoped>\n    .dataframe tbody tr th:only-of-type {\n        vertical-align: middle;\n    }\n\n    .dataframe tbody tr th {\n        vertical-align: top;\n    }\n\n    .dataframe thead th {\n        text-align: right;\n    }\n</style>\n<table border=\"1\" class=\"dataframe\">\n  <thead>\n    <tr style=\"text-align: right;\">\n      <th></th>\n      <th>resto_id</th>\n      <th>dishes</th>\n    </tr>\n  </thead>\n  <tbody>\n    <tr>\n      <th>0</th>\n      <td>0</td>\n      <td>[mirabelle, leon, beyer, masthuhnbrust, singap...</td>\n    </tr>\n    <tr>\n      <th>1</th>\n      <td>1</td>\n      <td>[piel, bro, 's, ., lager, scrambled, eggs, and...</td>\n    </tr>\n    <tr>\n      <th>2</th>\n      <td>2</td>\n      <td>[3, fried, eggs, and, ham, or, bacon, ,, bread...</td>\n    </tr>\n    <tr>\n      <th>3</th>\n      <td>3</td>\n      <td>[braised, free, range, chicken, fresh, polenta...</td>\n    </tr>\n    <tr>\n      <th>4</th>\n      <td>4</td>\n      <td>[spring, duckling, cream, or, country, gravy, ...</td>\n    </tr>\n  </tbody>\n</table>\n</div>"
     },
     "metadata": {},
     "execution_count": 72
    }
   ],
   "source": [
    "restos_df.head()"
   ]
  },
  {
   "source": [
    "### Removing punctuation marks"
   ],
   "cell_type": "markdown",
   "metadata": {}
  },
  {
   "cell_type": "code",
   "execution_count": 73,
   "metadata": {},
   "outputs": [],
   "source": [
    "restos_df[\"dishes\"] = restos_df[\"dishes\"].map(lambda x: [word.lower() for word in x if word.isalpha()])"
   ]
  },
  {
   "cell_type": "code",
   "execution_count": 74,
   "metadata": {},
   "outputs": [
    {
     "output_type": "execute_result",
     "data": {
      "text/plain": [
       "   resto_id                                             dishes\n",
       "0         0  [mirabelle, leon, beyer, masthuhnbrust, singap...\n",
       "1         1  [piel, bro, lager, scrambled, eggs, and, onion...\n",
       "2         2  [fried, eggs, and, ham, or, bacon, bread, with...\n",
       "3         3  [braised, free, range, chicken, fresh, polenta...\n",
       "4         4  [spring, duckling, cream, or, country, gravy, ..."
      ],
      "text/html": "<div>\n<style scoped>\n    .dataframe tbody tr th:only-of-type {\n        vertical-align: middle;\n    }\n\n    .dataframe tbody tr th {\n        vertical-align: top;\n    }\n\n    .dataframe thead th {\n        text-align: right;\n    }\n</style>\n<table border=\"1\" class=\"dataframe\">\n  <thead>\n    <tr style=\"text-align: right;\">\n      <th></th>\n      <th>resto_id</th>\n      <th>dishes</th>\n    </tr>\n  </thead>\n  <tbody>\n    <tr>\n      <th>0</th>\n      <td>0</td>\n      <td>[mirabelle, leon, beyer, masthuhnbrust, singap...</td>\n    </tr>\n    <tr>\n      <th>1</th>\n      <td>1</td>\n      <td>[piel, bro, lager, scrambled, eggs, and, onion...</td>\n    </tr>\n    <tr>\n      <th>2</th>\n      <td>2</td>\n      <td>[fried, eggs, and, ham, or, bacon, bread, with...</td>\n    </tr>\n    <tr>\n      <th>3</th>\n      <td>3</td>\n      <td>[braised, free, range, chicken, fresh, polenta...</td>\n    </tr>\n    <tr>\n      <th>4</th>\n      <td>4</td>\n      <td>[spring, duckling, cream, or, country, gravy, ...</td>\n    </tr>\n  </tbody>\n</table>\n</div>"
     },
     "metadata": {},
     "execution_count": 74
    }
   ],
   "source": [
    "restos_df.head()"
   ]
  },
  {
   "source": [
    "### Stemming the words"
   ],
   "cell_type": "markdown",
   "metadata": {}
  },
  {
   "cell_type": "code",
   "execution_count": 75,
   "metadata": {},
   "outputs": [],
   "source": [
    "porter = nltk.PorterStemmer()"
   ]
  },
  {
   "cell_type": "code",
   "execution_count": 76,
   "metadata": {},
   "outputs": [],
   "source": [
    "restos_df[\"dishes\"] = restos_df[\"dishes\"].map(lambda x: [porter.stem(t) for t in x])"
   ]
  },
  {
   "cell_type": "code",
   "execution_count": null,
   "metadata": {},
   "outputs": [],
   "source": []
  },
  {
   "cell_type": "code",
   "execution_count": 77,
   "metadata": {},
   "outputs": [
    {
     "output_type": "execute_result",
     "data": {
      "text/plain": [
       "   resto_id                                             dishes\n",
       "0         0  [mirabel, leon, beyer, masthuhnbrust, singapur...\n",
       "1         1  [piel, bro, lager, scrambl, egg, and, onion, f...\n",
       "2         2  [fri, egg, and, ham, or, bacon, bread, with, p...\n",
       "3         3  [brais, free, rang, chicken, fresh, polenta, b...\n",
       "4         4  [spring, duckl, cream, or, countri, gravi, oys..."
      ],
      "text/html": "<div>\n<style scoped>\n    .dataframe tbody tr th:only-of-type {\n        vertical-align: middle;\n    }\n\n    .dataframe tbody tr th {\n        vertical-align: top;\n    }\n\n    .dataframe thead th {\n        text-align: right;\n    }\n</style>\n<table border=\"1\" class=\"dataframe\">\n  <thead>\n    <tr style=\"text-align: right;\">\n      <th></th>\n      <th>resto_id</th>\n      <th>dishes</th>\n    </tr>\n  </thead>\n  <tbody>\n    <tr>\n      <th>0</th>\n      <td>0</td>\n      <td>[mirabel, leon, beyer, masthuhnbrust, singapur...</td>\n    </tr>\n    <tr>\n      <th>1</th>\n      <td>1</td>\n      <td>[piel, bro, lager, scrambl, egg, and, onion, f...</td>\n    </tr>\n    <tr>\n      <th>2</th>\n      <td>2</td>\n      <td>[fri, egg, and, ham, or, bacon, bread, with, p...</td>\n    </tr>\n    <tr>\n      <th>3</th>\n      <td>3</td>\n      <td>[brais, free, rang, chicken, fresh, polenta, b...</td>\n    </tr>\n    <tr>\n      <th>4</th>\n      <td>4</td>\n      <td>[spring, duckl, cream, or, countri, gravi, oys...</td>\n    </tr>\n  </tbody>\n</table>\n</div>"
     },
     "metadata": {},
     "execution_count": 77
    }
   ],
   "source": [
    "restos_df.head()"
   ]
  },
  {
   "source": [
    "### Removing stop words"
   ],
   "cell_type": "markdown",
   "metadata": {}
  },
  {
   "cell_type": "code",
   "execution_count": 78,
   "metadata": {},
   "outputs": [],
   "source": [
    "from nltk.corpus import stopwords"
   ]
  },
  {
   "cell_type": "code",
   "execution_count": 79,
   "metadata": {},
   "outputs": [],
   "source": [
    "stop_words = set(stopwords.words('english')) "
   ]
  },
  {
   "cell_type": "code",
   "execution_count": 80,
   "metadata": {},
   "outputs": [],
   "source": [
    "restos_df[\"dishes\"] = restos_df[\"dishes\"].map(lambda x: [w for w in x if not w in stop_words])"
   ]
  },
  {
   "cell_type": "code",
   "execution_count": 81,
   "metadata": {},
   "outputs": [
    {
     "output_type": "execute_result",
     "data": {
      "text/plain": [
       "   resto_id                                             dishes\n",
       "0         0  [mirabel, leon, beyer, masthuhnbrust, singapur...\n",
       "1         1  [piel, bro, lager, scrambl, egg, onion, flambe...\n",
       "2         2  [fri, egg, ham, bacon, bread, potato, salad, e...\n",
       "3         3  [brais, free, rang, chicken, fresh, polenta, b...\n",
       "4         4  [spring, duckl, cream, countri, gravi, oyster,..."
      ],
      "text/html": "<div>\n<style scoped>\n    .dataframe tbody tr th:only-of-type {\n        vertical-align: middle;\n    }\n\n    .dataframe tbody tr th {\n        vertical-align: top;\n    }\n\n    .dataframe thead th {\n        text-align: right;\n    }\n</style>\n<table border=\"1\" class=\"dataframe\">\n  <thead>\n    <tr style=\"text-align: right;\">\n      <th></th>\n      <th>resto_id</th>\n      <th>dishes</th>\n    </tr>\n  </thead>\n  <tbody>\n    <tr>\n      <th>0</th>\n      <td>0</td>\n      <td>[mirabel, leon, beyer, masthuhnbrust, singapur...</td>\n    </tr>\n    <tr>\n      <th>1</th>\n      <td>1</td>\n      <td>[piel, bro, lager, scrambl, egg, onion, flambe...</td>\n    </tr>\n    <tr>\n      <th>2</th>\n      <td>2</td>\n      <td>[fri, egg, ham, bacon, bread, potato, salad, e...</td>\n    </tr>\n    <tr>\n      <th>3</th>\n      <td>3</td>\n      <td>[brais, free, rang, chicken, fresh, polenta, b...</td>\n    </tr>\n    <tr>\n      <th>4</th>\n      <td>4</td>\n      <td>[spring, duckl, cream, countri, gravi, oyster,...</td>\n    </tr>\n  </tbody>\n</table>\n</div>"
     },
     "metadata": {},
     "execution_count": 81
    }
   ],
   "source": [
    "restos_df.head()"
   ]
  },
  {
   "cell_type": "code",
   "execution_count": 96,
   "metadata": {},
   "outputs": [
    {
     "output_type": "stream",
     "name": "stdout",
     "text": [
      "<class 'pandas.core.frame.DataFrame'>\nRangeIndex: 200 entries, 0 to 199\nData columns (total 2 columns):\n #   Column    Non-Null Count  Dtype \n---  ------    --------------  ----- \n 0   resto_id  200 non-null    int64 \n 1   dishes    200 non-null    object\ndtypes: int64(1), object(1)\nmemory usage: 3.2+ KB\n"
     ]
    }
   ],
   "source": [
    "restos_df.info()"
   ]
  },
  {
   "cell_type": "code",
   "execution_count": 90,
   "metadata": {},
   "outputs": [
    {
     "output_type": "execute_result",
     "data": {
      "text/plain": [
       "'ockfen,bockstein,gebert,fuder,cinzano,dri,mit,kirschwass,chateau,reynon,bordeaux,carr,biscuit,cup,whole,sea,bass,steam,spring,onion,ginger,per,lb,fri,ham,egg,sandwich,assort,relish,salmon,fresco,frito,la,parrilla,schweinskeul,gebraten,rotkohl,essenc,leek,soup,heringfilet,nach,art,de,haus,mariniert,mit,gewurzgurken,zwiebeln,und,sauerrahm,serviert,al,beilag,emerald,mussel,steam,whole,broil,fri,spring,chicken,pud,princess,sauc,mader,galantin,capon,florida,salad,extra,dri,red,cap,littl,neck,clam,catsup,buzzard,bay,half,shell,oyster,chateau,gazin,consomm,royal,tureen,scholl,gebk,majonais,salat,trommer,beer,cold,main,lobster,half,caper,mayonnais,potato,salad,egg,tomato,wedg,celeri,heart,rosbif,aux,cornichon,heringssalat,mit,ei,garniert,bake,bluefish,la,creol,en,bordur,bake,stuf,tomato,vanderbilt,fllet,sole,fri,sauc,tartar,cold,beef,la,mode,jelli,slice,tomato,dill,pickl,consommé,impérial,eier,duval,fri,filet,sole,au,gratin,duc,de,montebello,brut,ostarettir,meo,kexi,rugbrauoi,smjori,beefsteak,florentin,veloutin,cucumb,thursday,special,ham,boil,haig,haig,star,parisian,luncheon,triscuit,milk,matjesfilet,hausfrauen,art,brot,soup,serv,without,meat,order,hor,à,la,parisienn,hot,chees,pastri,sautern,schroeder,de,constan,cold,pate,gateau,du,chef,hammelfleischsupp,mit,perlgraupen,patisseri,viennois,queen,sherri,fri,oyster,crabsnewburg,french,sardin,cold,pedro,domecq,celebr,low,calori,salad,dress,french,ladi,potato,rossett,pluto,water,grill,ham,steak,hawaiian,cherri,jubile,rice,pud,la,mode,cream,hackensack,corn,meadow,style,lemon,butter,sauc,broil,salmon,steak,germain,formaggi,misti,dewar,scotch,canadian,delawar,shad,saut,meunier,speck,mit,ei,oyster,paddi,whiski,crabbi,evan,india,pale,ale'"
      ]
     },
     "metadata": {},
     "execution_count": 90
    }
   ],
   "source": [
    "restos_df[\"dishes\"][199]"
   ]
  },
  {
   "cell_type": "code",
   "execution_count": 82,
   "metadata": {},
   "outputs": [],
   "source": [
    "restos_df[\"dishes\"] = restos_df[\"dishes\"].map(lambda x: ','.join(map(str, x)))"
   ]
  },
  {
   "cell_type": "code",
   "execution_count": 83,
   "metadata": {},
   "outputs": [
    {
     "output_type": "execute_result",
     "data": {
      "text/plain": [
       "   resto_id                                             dishes\n",
       "0         0  mirabel,leon,beyer,masthuhnbrust,singapur,curr...\n",
       "1         1  piel,bro,lager,scrambl,egg,onion,flambe,person...\n",
       "2         2  fri,egg,ham,bacon,bread,potato,salad,extra,chi...\n",
       "3         3  brais,free,rang,chicken,fresh,polenta,beef,gou...\n",
       "4         4  spring,duckl,cream,countri,gravi,oyster,clam,c..."
      ],
      "text/html": "<div>\n<style scoped>\n    .dataframe tbody tr th:only-of-type {\n        vertical-align: middle;\n    }\n\n    .dataframe tbody tr th {\n        vertical-align: top;\n    }\n\n    .dataframe thead th {\n        text-align: right;\n    }\n</style>\n<table border=\"1\" class=\"dataframe\">\n  <thead>\n    <tr style=\"text-align: right;\">\n      <th></th>\n      <th>resto_id</th>\n      <th>dishes</th>\n    </tr>\n  </thead>\n  <tbody>\n    <tr>\n      <th>0</th>\n      <td>0</td>\n      <td>mirabel,leon,beyer,masthuhnbrust,singapur,curr...</td>\n    </tr>\n    <tr>\n      <th>1</th>\n      <td>1</td>\n      <td>piel,bro,lager,scrambl,egg,onion,flambe,person...</td>\n    </tr>\n    <tr>\n      <th>2</th>\n      <td>2</td>\n      <td>fri,egg,ham,bacon,bread,potato,salad,extra,chi...</td>\n    </tr>\n    <tr>\n      <th>3</th>\n      <td>3</td>\n      <td>brais,free,rang,chicken,fresh,polenta,beef,gou...</td>\n    </tr>\n    <tr>\n      <th>4</th>\n      <td>4</td>\n      <td>spring,duckl,cream,countri,gravi,oyster,clam,c...</td>\n    </tr>\n  </tbody>\n</table>\n</div>"
     },
     "metadata": {},
     "execution_count": 83
    }
   ],
   "source": [
    "restos_df.head()"
   ]
  },
  {
   "cell_type": "code",
   "execution_count": 84,
   "metadata": {},
   "outputs": [],
   "source": [
    "all_dishes_string = restos_df[\"dishes\"].sum()"
   ]
  },
  {
   "cell_type": "code",
   "execution_count": 85,
   "metadata": {},
   "outputs": [
    {
     "output_type": "execute_result",
     "data": {
      "text/plain": [
       "ern,wine,went,bro,filet,de,sole,anglais,walewska,curacoa,white,corn,beef,cabbag,bonn,mare,domain,drum,roll,apricot,strwberri,parfait,fresh,fruit,tongu,sandwich,coup,montreuil,old,fashion,indian,pud,whip,cream,fresh,shrimp,salad,hard,boil,egg,bowl,garni,schildkrotensupp,lacroix,holland,auf,toast,hollandisch,old,musti,ale,titl,product,origin,boston,poulett,porterhous,steak,two,three,ri,de,veau,la,toulous,stegt,salad,à,la,crème,bratwurst,sauerkraut,cigarett,egyptian,small,packag,hesit,ice,cream,breast,chicken,saut,sou,cloch,alexand,cocktail,brandi,creme,de,cacao,cream,bisquit,dubouch,vsop,grill,dinner,steak,maitr,filet,mignon,la,rose,philadelphia,pepper,pot,patisseri,la,bonn,femm,epinard,en,branch,la,creme,lamb,chop,potato,broccoli,tomato,string,beanboneless,sardin,per,box,johnni,walker,black,label,scotch,lime,lemon,sherbet,feuillet,aux,ecreviss,great,caribbean,cocktail,name,origin,siboney,indian,kirsch,punch,spaghetti,italian,style,new,asparagu,hollandais,butter,sauc,minc,ham,egg,med,sirloin,steak,tomato,sauc,french,roast,mushroom,sauc,jelli,cabernet,sauvignon,domain,georg,chicken,cutlet,poulett,sauc,medium,littl,neck,clam,cocktail,neufchatel,cream,huitr,ou,mornay,la,douz,fresh,ham,sandwich,scharlachberg,meisterbrand,winkelhausen,alt,reserv,swiss,chees,ham,sandwich,pfannenkuchen,gefullt,fresh,clam,juic,cockail,terapen,compot,de,pech,frizzl,beef,scrambl,egg,le,poulet,de,grain,poch,au,riz,sauc,suprem,includ,fruit,coffe,roll,oyster,extra,saddl,rock,fanci,roast,poach,egg,daisi,potato,allumett,fresh,string,bean,choic,salad,chees,dessert,coffe,tea,crab,meat,la,dewey,sea,food,exquisit,pot,tea,rice,griddl,cake,potag,puchero,belegt,brot,mit,gek,cervelatwurst,stuf,tomato,lobster,meat,salad,coloss,asparagu,vinaigrett,cold,boil,ham,potato,salad,fri,tomato,emincé,de,homard,au,vinaigr,de,champagn,julien,red,claret,import,wine,steam,patna,rice,hamburg,steak,russian,sauc,fresh,sparerib,import,sauerkraut,corn,beef,cabbag,frozen,flame,continental,wadli,mit,kraut,oder,kartoffelsalat,parfait,grenadin,cooper,finest,mix,tea,roast,sirloin,beef,spaghetti,rye,graham,bread,chucki,dear,ouzo,liquor,potag,de,poulet,aux,tomat,import,boneless,sardin,potato,salad,id,lanoir,broil,shad,marin,style,boneless,sardin,box,vienna,ice,coffe,doubl,glass,john,downey,boursault,frischkas,mit,normandiebutt,geeister,birn,und,blauen,trauben,gallagh,burton,black,label,whiski,steinbutt,krebsschwanzen,champ,salami,pure,split,green,pea,dubonnett,italiensk,gronsakssoppa,beef,salad,neapolitan,ice,cream,wee,bit,taper,ice,cream,coffe,assort,cake,roquefort,edam,chees,cigar,cigarett,gumbo,jelli,finger,roll,williamsbirn,schlader,chocol,pecan,layer,cakehot,appl,pie,la,mode,chees,blintz,serv,sour,cream,hot,blueberri,sauc,fratelli,cora,gratin,du,quai,fri,white,saut,potato,tartar,sauc,kaffe,hag,extra,charg,london,dock,jamaica,rum,romain,lettuc,tomato,beet,oliv,watercress,vinaigrett,sauc,artichok,fresh,fruit,cup,orang,liqueur,plain,lemonad,haricot,vert,sauté,au,beurr,camelia,salad,chauvenet,chabli,consomm,marquisett,papia,biscuit,grillett,aiguillett,de,kingfish,la,venitienn,mussel,season,fri,bordeaux,white,chateaux,chat,lafon,brook,gener,rubi,pinot,noir,newton,new,asparagu,hollandis,sauc,bake,individu,new,york,bean,poach,egg,plain,pol,roger,brut,calf,liver,bacon,cream,spinach,pomm,de,terr,en,crouquett,chambertin,york,ham,cold,slaw,klosterneuburg,klostersekt,fri,long,island,oyster,tartar,sauc,cole,slaw,sandeman,son,veri,old,port,cerveza,fri,shrimp,shrimp,fri,rice,tea,excel,qualiti,asperg,de,pari,sauc,mousselin,chow,yuk,se,min,three,salmon,mayonnais,toast,boil,salmon,victoria,style,potato,persillad,belon,petit,supérieur,white,oyster,veri,much,like,nativ,belon,river,brittani,hazel,nut,tort,french,import,snail,lawrenc,pike,en,court,bouillon,potato,natur,pork,chop,saut,sauc,maltais,brais,opossum,georgia,style,beef,hash,potato,cream,fanci,form,glace,huhn,mit,champignon,und,spargel,im,pastetenr,boisin,brown,short,rib,beef,fresh,asparagu,tip,rissol,potato,tahitian,rum,punch,marcobrunn,rhine,wine,magi,salin,caledonia,miner,spring,half,pint,pint,tapioca,gekocht,steinbutt,chateau,lagrang,calvet,mix,drink,steak,kidney,pie,old,england,caff,parma,suprem,guinea,hen,la,paul,seedless,grape,chartreus,benedictin,curacao,oyster,shell,extra,pale,lemp,loui,brew,bottl,kalak,miner,water,plymouth,rock,gelatin,whip,cream,tomato,omelet,three,egg,hot,turkey,sandwich,french,fri,potato,whole,cranberri,sauc,giblet,gravi,wyman,champagn,ginger,ale,de,vougeot,oliv,cueser,pichler,origin,grape,fruit,marmalad,brais,whole,lamb,tongu,vinaigrett,serv,oil,vinegar,dress,chop,hard,boil,egg,picklpizza,contadina,mit,thunfisch,und,zwiebeln,seagram,whiskey,seagram,distil,jumbo,mushroom,bake,stuf,shrimp,crabmeat,cheddar,chees,sauc,mousselin,au,gratin,potato,fleischspiess,nach,art,de,chef,risi,bisi,salata,kostlich,salat,von,fr,pfirsichen,mit,cointreau,tisch,zuereitet,extra,cut,richelieu,chees,saddl,mutton,jelli,roast,young,turkey,homestyl,dress,cranberri,sauc,giblet,gravi,whip,potato,raspberri,argentin,salad,mold,serv,clark,roll,muffin,rib,prime,beef,bake,potato,roast,wild,turkey,cranberri,sauc,liebfraumilch,blue,nun,label,vintag,wodka,russ,krepkaya,barbecu,pork,chop,cole,slaw,amer,picon,grenadin,findon,haddock,cream,vernison,consomm,marrow,quenel,sweetbread,maryland,grill,prawn,ham,pilaw,rice,marmalad,devil,turkey,leg,graham,bread,glass,milk,jaunay,dri,canard,redhead,aiguillett,stripe,bass,normand,bottl,claret,pt,decant,boneless,sardin,per,box,mushroom,snail,tender,vineyard,snail,cook,mushroom,cap,garlic,walnut,butter,crab,claw,sweet,sour,cream,littl,neck,clam,ice,fri,oyster,crumb,doz,capon,poincar,faisan,la,broch,flanqu,de,caill,present,carem,legum,de,quatr,saison,barquett,de,morilless,michelob,half,maraschino,grapefruit,farci,oliv,roast,vermont,hen,turkey,giblet,gravi,consomm,dorad,dentsch,weinbrand,gelinot,canap,countri,sausag,fri,egg,wih,griddl,cake,sweetbread,gourmet,en,casserolett,bake,red,green,pepper,carolin,birkhühner,cocktail,millionair,brodchen,schnecken,kringel,half,chicken,steam,perfect,chateau,lafit,saddl,rock,pan,roast,kessel,gullasch,eier,robert,malt,milk,pot,hammelrucken,garnirt,minc,tartlett,lafayett,pud,dulari,brandi,bottl,cold,asparagu,mayonnais,hot,hous,chicken,en,casseroleau,beurr,date,fig,celeri,naturel,orang,peko,tea,goldbarschfilet,geb,sc,remoulad,und,kartoffelsalat,malthes,kreuz,spirituosen,jelli,fishneau,tod,saute,beef,pepper,galic,bolling,extra,dri,champagn,corn,fritter,spaghetti,chees,new,cauliflow,sweet,potato,pint,candi,sweet,assort,bakeri,basket,viand,froid,assorti,la,gele,scungili,la,fra,diavolo,menu,de,parrilla,stew,plum,caviar,frai,du,volga,shrimp,cocktail,bake,appl,chicken,soup,two,slice,bread,one,piec,butter,schaschlik,kaukasienn,slice,turkey,poulet,printani,plain,lobster,mayonnais,dress,half,potato,l,brombeeren,walterspiel,bean,curd,saute,szechuan,sauc,egg,remoulad,karri,de,huitr,aux,riz,bombay,duck,tricolor,slice,ice,cream,stuf,loin,veal,portugais,claret,wine,jelli,whip,cream,pontet,canet,chabann,one,egg,poach,boil,beef,boil,potato,veget,petral,dore,light,butter,lemon,sauc,hard,sauc,petit,poi,la,francais,import,burgundi,macon,chateau,latour,pauillac,le,mignon,de,boeuf,flambé,à,small,lobster,salad,larg,agneau,de,lait,persil,le,darn,de,fletan,meunier,le,pomm,fondant,small,steak,combin,prune,apricot,pie,mountain,foll,blanch,gerauchert,gansebrust,mit,apfelsalat,tomaten,juic,soup,cream,brussel,sprout,beechnut,bacon,broil,chef,special,dish,chicken,patti,pea,corn,brisket,cabbag,pomm,de,terr,ala,paill,curacao,cordial,grape,juic,loganberri,frog,leg,sauté,au,vin,blanc,oyster,fri,broil,huitr,marenn,rye,bread,per,order,feuill,suedois,cream,mongol,aux,crouton,diabolo,exquis,jarbroil,smelt,germain,tuna,fish,salad,slice,tomato,mayonnais,onion,fri,devil,turkey,leg,gravlak,dill,sauc,great,salmon,north,cure,old,vike,manner,hygeia,lithia,water,bread,veal,cutlet,tomato,sauc,string,bean,mash,potato,rognon,saut,aux,champignon,milk,shake,larg,brook,trout,cream,anchovi,del,mont,style,broil,fresh,salmon,steak,maitr,potato,saturday,special,chicken,terrin,poulard,saintongeais,le,loup,roti,la,creme,de,thym,et,courgett,frite,assort,cold,cut,potato,green,bean,salad,ruedesheim,rhine,wine,anheus,ferh,tea,per,pot,select,de,hor,rpr,mandelforel,mit,whiski,flambiert,fischkartoffeln,salat,schwepp,quinin,water,gran,fritto,alla,fiorentina,kosher,tongu,sandwich,whole,earth,avocado,slice,slice,tomato,alfalfa,sprout,leaf,lettuc,serv,slice,swiss,chees,serv,yogurt,cucumb,dress,bread,parducci,chenin,blanc,kotopoulo,fito,cold,westphalia,ham,uerzing,wuerzgarten,origin,crescenz,bischofl,priester,seminar,strip,bass,chambord,potato,polonais,sweet,potato,place,potato,le,artichaut,sauc,hollandais,katenrauchwurst,blau,im,wurzelsud,mit,petersilienkartoffeln,und,brauner,butter,oyster,clam,stew,pail,chicken,fri,vienna,style,home,made,pickl,antipasti,assort,steam,suet,pud,patat,frite,oyster,patti,la,rein,french,fri,potato,consomm,gombo,roast,leg,spring,lamb,green,pea,fri,indian,mush,mapl,syrup,omelett,sea,food,joinvil,sirloin,pickl,beefsteak,oliv,kingfish,balmor,leg,mutton,string,bean,potato,luchess,chop,prime,sirloin,steak,crisp,french,fri,onion,ring,sauc,berci,import,bismarck,boil,potato,lammkeul,gefullt,auf,glaciert,echalotten,speckbohnchen,kartoffelgratin,mit,kase,souffl,mirabeau,forel,blau,mit,beilag,apricot,sour,dill,sauc,broil,long,island,flounder,la,ratner,cook,tomato,garlic,serv,two,veget,chef,salad,bowl,cole,slaw,extra,larg,crab,flake,creol,today,soup,poisson,la,mayonnais,blackberri,wine,saumon,crû,mariné,maison,turkish,salad,new,york,bagel,lox,platter,prawn,cocktail,pate,duck,ham,jelli,nativ,catawba,hock,fri,stuf,shrimp,two,vegrowntre,chocol,pot,lobster,bel,paes,fromaggi,bake,appl,dumpl,hard,brandi,sauc,bacon,garnitur,pigeonneaux,grill,sur,toast,kalifornisch,pfirsich,milk,biscuit,coffe,cream,ruinart,pere,fil,brut,pompano,à,la,marinièr,lott,grill,fresh,ground,hamburg,serv,french,fri,potato,tomat,braise,cepe,la,bord,jersey,pork,chop,two,smor,brod,ost,sill,egg,sur,plat,grapefruit,american,bread,le,poulet,froid,mayonnais,garni,salad,cold,lobster,ravigot,prinzessbohnen,erbsen,oder,karotten,william,birn,von,schlader,ox,tail,soup,old,english,style,barley,filet,bellvu,eisbech,mit,fruechten,und,likoer,erdbeermarmalad,headchees,garni,german,pancak,compot,cold,ham,potato,salad,champagn,herb,cocktail,von,frischen,krebsschwanzen,eiersalat,pompadour,toast,butter,cold,cup,consumm,chocol,cream,cup,cake,pot,breast,beef,egg,barley,chabli,relish,salt,almond,bake,lamb,pie,chicken,liver,skewer,napolitain,gourmet,delight,finest,filet,mignon,sirloin,steak,least,ounc,may,order,ani,food,hous,like,go,abov,dinner,lobster,shrimp,fresh,fruit,cocktail,du,jour,soup,relish,tray,mushroom,french,fri,grill,pork,chop,candi,sweet,potato,fresh,spinach,pecan,pie,ex,charg,pizza,del,giorno,pizza,day,pannequet,souffl,flamb,au,grand,marnier,clam,half,shell,stew,potato,egg,articl,abov,boil,mutton,plain,caper,sauc,civet,spring,lamb,bourgignonn,home,made,noodl,anchovi,toast,piel,real,german,beer,milchlammkeul,mediterran,gemus,per,caesar,salad,pan,fri,pork,chop,whip,potato,mash,yellow,turnip,vienna,roll,cup,coffe,broil,spanish,mackerel,piquaint,sauc,brynta,kantarel,african,icefri,bread,oyster,french,fri,potato,mexican,cole,slaw,ruhreier,rinderkraftbruh,mit,ei,roast,half,spring,chicken,appl,dress,littl,thin,hot,cake,melt,butter,hot,mapl,boysenberri,syrup,french,sardin,mackrel,oil,salad,de,canard,aux,foi,tied,cake,insalata,assortita,sherri,ind,stück,kälberfüss,gebraten,mit,mayonnaisesalat,tenderloin,steak,plain,one,usher,liqueur,year,scotch,whiskey,ham,broil,egg,import,sardin,potato,salad,formaggio,griviera,nutti,pecan,pie,smother,mound,whip,cream,roast,stuff,chicken,calf,liver,broil,fri,babi,beef,liver,serv,strip,premium,bacon,cover,saut,onion,ring,french,fri,coffe,tea,whitefish,fume,boneless,philadelphia,capon,perigourdin,pamplemouss,clear,oxtail,soyer,port,queen,fort,shelbi,ice,cream,pie,mix,fruit,syrup,filet,sole,argenteuil,lobster,la,newburg,chafe,dish,fri,spr,g,chicken,top,sirloin,steak,hip,french,fri,onion,loui,anheus,busch,draught,lettuc,egg,oliv,salad,virginina,ham,broil,filet,mignon,beef,la,provencal,sauc,berci,saute,spring,veget,liberian,perlu,rice,nathaniel,johnston,fil,grave,kirschnektar,l,bécassin,au,cresson,homer,milk,individu,bottl,hot,chop,steak,sandwich,cole,slaw,relish,cream,guinea,hean,soup,chill,garden,tomato,juic,fri,veal,cutlet,bread,tomato,sauc,champinjonomelett,breast,veal,glace,red,cabbag,mash,potato,beefsteak,russ,la,tartar,cold,shrimp,scallop,grate,chees,cream,sauc,mumm,cordial,roug,pate,ice,cream,plombier,gai,chow,mein,fri,noodl,chicken,pork,rote,kartoffelsalat,thick,green,sea,turtl,soup,plateau,import,wisconsin,chees,toast,cracker,english,wafer,omelett,souffl,au,marasquin,bluepoint,oyster,half,shell,cocktail,sauc,mulligatawney,soup,brochett,beef,tenderloin,le,fromag,au,choix,haut,sautern,calvet,home,made,bowl,custard,two,homemad,manicotti,sausag,salad,bowl,rhine,anheus,fehr,creuznach,liebfraumilch,ausles,wiener,schnitzel,mit,röstkartoffeln,pure,bretonn,soup,kartoffelnamand,omelett,au,rum,marinaden,franzosisch,hunerpastetli,fricasse,scallop,toast,sweet,potato,en,surpris,ruhrei,mit,pfifferlingen,fleischmann,proof,atea,excel,qualiti,extra,strong,blend,brew,like,oblig,us,order,kind,accustom,home,select,follow,high,grade,blend,english,breakfast,genuin,orang,peko,golden,tip,ceylon,formosa,oolong,first,pick,calf,brain,saut,brown,caper,butter,mash,potato,kartoffeln,saut,dtz,weinbergschnecken,krauterbutt,chocol,meringu,pie,ayala,ex,dri,durkheim,feuerberg,portugies,mild,mollig,vor,dem,essen,salad,nicois,tuna,fish,green,bean,onion,tomato,egg,oliv,anchovi,serv,french,dress,devil,crab,tartar,sauc,potato,salad,soup,order,royal,canadian,pargaon,la,rosa,de,santiago,box,pintadeau,aux,lentil,ou,pc,rumpsteak,vom,grill,krauterbutt,und,pomm,frite,moru,berci,alita,de,pollo,calient,hefti,portion,chicken,wing,marin,red,hot,calient,sauc,thi,good,appet,one,big,appetit,two,regular,appetit,three,eat,like,bird,gebraten,kartoffeln,home,pickl,oyster,lettuc,nicois,jelli,ham,tongu,sandwich,lettuc,slice,tomato,cumberland,ham,au,jeu,scampi,provencal,riz,pilaw,café,liégeoi,green,river,homard,frai,sauc,mayonnais,prix,selon,grandeur,provid,river,oyster,shell,per,dozen,calf,head,vinaigrett,beet,salad,nicois,broth,salsifi,mimosa,moet,chandon,brut,imperi,curri,mignon,tender,veal,saut,princess,hummer,med,mayonnais,brod,og,smor,muffin,wheat,cake,virginia,ham,egg,sultana,stick,codfish,tongu,brown,butter,caviar,avec,toast,et,beurr,stangenspargel,mit,fladl,rhone,red,chateauneuf,du,pape,half,bottl,french,ice,cream,fanci,form,beaun,cold,cream,vichyssois,cup,pdl,endivien,salad,sandwich,de,homard,milk,punch,brandi,glass,anchovi,capersalad,de,poivron,vert,cervel,au,beurr,noir,chicken,salad,sandwich,crisp,lettuc,garlic,bread,pesto,parmesan,sauc,durchgestrichen,gelb,erbsensupp,mit,crouton,nudelsupp,rindfl,quart,chartreus,per,glass,oyster,broil,bacon,marcobrunn,udder,frischer,hummer,sauc,mayonnais,broil,ham,fri,sweet,potato,steam,fig,pud,hard,brandi,sauc,larg,broil,new,york,cut,boneless,sirloin,steak,pound,plu,graham,gem,beef,barley,soup,pot,roast,beef,bake,potato,stew,corn,appl,pie,bread,butter,coffe,fanci,wafer,fresh,fruit,cup,mayan,boil,corn,tongu,spinach,boil,potato,fine,champagn,liqueur,brandi,cold,salmon,mayonnais,sauc,burgundi,chabli,rose,caraf,printani,chasseur,zubrovka,czechoslovakia,blanc,mang,au,citron,apolloinari,punch,sherbet,flavor,nellelrod,pud,schweinelendchen,auf,paprikagemüs,schinkenstreifen,und,röstkartoffeln,old,medford,rum,codfish,fri,tomato,sauc,moka,cream,cake,rt,wor,bro,wm,steven,romain,salad,french,dress,mayonnais,omelett,tomato,one,masque,sauc,fri,broil,shad,massepain,jefferson,fromag,creme,charl,heidsieck,mattituck,fresh,guayma,shrimp,cocktail,consomm,hot,cold,mix,relish,bowl,oyster,stew,barbecu,bread,saarland,filettopf,nach,heus,laubenheim,carl,acker,macaroni,la,montgela,half,avocado,russian,dress,season,import,chabli,cherri,tomato,salad,banana,whole,cream,la,flute,heidsieck,dri,monopol,brut,grand,cru,de,cramant,blanc,de,blanc,brut,soup,curri,rice,fri,dumpl,order,fresh,string,bean,menager,asparagu,drawn,butter,broil,filet,haddock,lemon,butter,veget,potato,shred,wheat,biscuit,today,casserol,irish,lamb,stew,carrot,pearl,white,onion,turnip,sprinkl,pea,fluffi,dumpl,pecan,nut,tart,le,grenedin,de,boeuf,grand,veneur,potato,saute,stew,roast,oyster,shell,half,nuttola,jumbo,soft,shell,crab,tartar,sauc,slice,tomato,pimento,chees,fri,perch,salt,pork,lobster,saladri,de,veau,aux,champignon,bordelais,bomb,rein,victoria,egg,en,cocott,diplom,breast,young,duckl,port,wine,new,string,bean,lyonnais,rhine,wine,binger,sandwich,de,jambon,carl,schulz,seltzer,ice,pud,champagn,moët,et,chandon,white,seal,pickl,lamb,tongiu,sandwich,assort,fri,meat,veget,florentin,style,brookfield,sausag,egg,spidstegt,rodkal,aeblemo,peberrod,og,korend,bl,salat,privat,stock,new,york,state,rare,age,cheddar,chees,origin,ungarisch,saftgoulasch,brot,klare,indischsupp,chicori,salad,french,dress,turban,sola,la,normand,biscuit,tortoni,littl,neck,clam,cocktail,kirsh,zazrek,cocktail,real,italian,spaghetti,brais,chicken,imp,coburg,beer,broil,halibut,foyot,roast,vermont,turkey,dress,cranberri,sauc,deutz,brut,rose,fine,herb,salad,orang,whole,slice,dali,beet,saut,beef,au,paprika,spaetzl,venitienn,roumanian,tenderloin,pokelschweinsrippchen,yorkshir,sauc,scampi,geb,sc,valenten,graacher,half,schoppen,plain,chicken,mexicain,rice,lima,bean,haricot,frai,paysann,pol,roger,brut,special,authent,lemon,chicken,sonoma,zinfandel,schoonmak,steam,finnan,haddi,caledonia,geback,seezung,crab,meat,potato,cream,glace,fantaisi,salad,doucett,flat,iron,special,ice,cream,swiss,chees,saltin,cracker,consommé,orient,potato,french,fri,corn,cake,mapl,syrup,sautern,medium,dri,glass,cold,roast,prime,rib,beef,fresh,veget,salad,chateau,farina,oyster,cracker,broil,mackerel,lemon,butter,open,sirloin,steak,sandwich,strain,honey,ind,anim,cooki,fish,timbal,klare,schildkrötensupp,lacroix,mit,altem,sherri,le,du,colinot,de,petit,bateaux,frott,de,moutard,fine,cuit,sou,le,grill,avec,quelqu,feuill,aromatiqu,du,jardin,roast,duckl,green,ravioli,cream,sauc,ham,swiss,serv,hot,poppi,seed,hard,roll,tomato,lettuc,open,face,french,fri,cold,egg,laguipier,rockaway,oyster,half,shell,shrimp,chow,mein,stuf,derma,kishk,zwiebelsupp,rumpsteak,bratkartoffeln,dessert,creme,duchess,pan,broil,sea,bass,parsley,potato,carrot,cotelettockfen,bockstein,gebert,fuder,cinzano,dri,mit,kirschwass,chateau,reynon,bordeaux,carr,biscuit,cup,whole,sea,bass,steam,spring,onion,ginger,per,lb,fri,ham,egg,sandwich,assort,relish,salmon,fresco,frito,la,parrilla,schweinskeul,gebraten,rotkohl,essenc,leek,soup,heringfilet,nach,art,de,haus,mariniert,mit,gewurzgurken,zwiebeln,und,sauerrahm,serviert,al,beilag,emerald,mussel,steam,whole,broil,fri,spring,chicken,pud,princess,sauc,mader,galantin,capon,florida,salad,extra,dri,red,cap,littl,neck,clam,catsup,buzzard,bay,half,shell,oyster,chateau,gazin,consomm,royal,tureen,scholl,gebk,majonais,salat,trommer,beer,cold,main,lobster,half,caper,mayonnais,potato,salad,egg,tomato,wedg,celeri,heart,rosbif,aux,cornichon,heringssalat,mit,ei,garniert,bake,bluefish,la,creol,en,bordur,bake,stuf,tomato,vanderbilt,fllet,sole,fri,sauc,tartar,cold,beef,la,mode,jelli,slice,tomato,dill,pickl,consommé,impérial,eier,duval,fri,filet,sole,au,gratin,duc,de,montebello,brut,ostarettir,meo,kexi,rugbrauoi,smjori,beefsteak,florentin,veloutin,cucumb,thursday,special,ham,boil,haig,haig,star,parisian,luncheon,triscuit,milk,matjesfilet,hausfrauen,art,brot,soup,serv,without,meat,order,hor,à,la,parisienn,hot,chees,pastri,sautern,schroeder,de,constan,cold,pate,gateau,du,chef,hammelfleischsupp,mit,perlgraupen,patisseri,viennois,queen,sherri,fri,oyster,crabsnewburg,french,sardin,cold,pedro,domecq,celebr,low,calori,salad,dress,french,ladi,potato,rossett,pluto,water,grill,ham,steak,hawaiian,cherri,jubile,rice,pud,la,mode,cream,hackensack,corn,meadow,style,lemon,butter,sauc,broil,salmon,steak,germain,formaggi,misti,dewar,scotch,canadian,delawar,shad,saut,meunier,speck,mit,ei,oyster,paddi,whiski,crabbi,evan,india,pale,ale'"
      ]
     },
     "metadata": {},
     "execution_count": 85
    }
   ],
   "source": [
    "all_dishes_string"
   ]
  },
  {
   "cell_type": "code",
   "execution_count": 91,
   "metadata": {},
   "outputs": [],
   "source": [
    "def Convert(string): \n",
    "    li = list(string.split(\",\")) \n",
    "    return li"
   ]
  },
  {
   "cell_type": "code",
   "execution_count": 92,
   "metadata": {},
   "outputs": [],
   "source": [
    "all_dishes_list = Convert(all_dishes_string)"
   ]
  },
  {
   "cell_type": "code",
   "execution_count": 93,
   "metadata": {},
   "outputs": [
    {
     "output_type": "execute_result",
     "data": {
      "text/plain": [
       "50223"
      ]
     },
     "metadata": {},
     "execution_count": 93
    }
   ],
   "source": [
    "len(all_dishes_list)"
   ]
  },
  {
   "source": [
    "unique_dishes = set(all_dishes_list)\n",
    "print(len(unique_dishes))"
   ],
   "cell_type": "code",
   "metadata": {},
   "execution_count": 94,
   "outputs": [
    {
     "output_type": "stream",
     "name": "stdout",
     "text": [
      "8292\n"
     ]
    }
   ]
  },
  {
   "source": [
    "unique_dishes"
   ],
   "cell_type": "code",
   "metadata": {},
   "execution_count": 95,
   "outputs": [
    {
     "output_type": "execute_result",
     "data": {
      "text/plain": [
       "{'velout',\n",
       " 'ger',\n",
       " 'type',\n",
       " 'like',\n",
       " 'schlosskartoffel',\n",
       " 'wild',\n",
       " 'matj',\n",
       " 'saumone',\n",
       " 'ausgelostem',\n",
       " 'kaa',\n",
       " 'dauphin',\n",
       " 'tin',\n",
       " 'smor',\n",
       " 'harvey',\n",
       " 'medail',\n",
       " 'modèn',\n",
       " 'ostarettir',\n",
       " 'plumle',\n",
       " 'schweinefleisch',\n",
       " 'linsensupp',\n",
       " 'diamand',\n",
       " 'kitzing',\n",
       " 'mcarthur',\n",
       " 'weinbergschnecken',\n",
       " 'greno',\n",
       " 'schinkenplatt',\n",
       " 'stetten',\n",
       " 'banana',\n",
       " 'sahnensteak',\n",
       " 'kraftig',\n",
       " 'hamonisch',\n",
       " 'escarol',\n",
       " 'gazin',\n",
       " 'spejlaeg',\n",
       " 'lapin',\n",
       " 'rape',\n",
       " 'rpr',\n",
       " 'baden',\n",
       " 'lubeck',\n",
       " 'symphoni',\n",
       " 'erlesenen',\n",
       " 'dutch',\n",
       " 'marzen',\n",
       " 'sau',\n",
       " 'coquil',\n",
       " 'tavel',\n",
       " 'tsai',\n",
       " 'champenois',\n",
       " 'everett',\n",
       " 'ward',\n",
       " 'manhattannew',\n",
       " 'alcazar',\n",
       " 'cellar',\n",
       " 'fine',\n",
       " 'centuri',\n",
       " 'steinhag',\n",
       " 'arrivag',\n",
       " 'jurancon',\n",
       " 'clicquet',\n",
       " 'schelpen',\n",
       " 'saut',\n",
       " 'strasbourgeois',\n",
       " 'paprikaschnitzel',\n",
       " 'gravillon',\n",
       " 'pollastra',\n",
       " 'fungulaubenheim',\n",
       " 'entrecôt',\n",
       " 'weston',\n",
       " 'maisocaf',\n",
       " 'layer',\n",
       " 'dunkel',\n",
       " 'garnier',\n",
       " 'cervelatwurst',\n",
       " 'prawn',\n",
       " 'shave',\n",
       " 'crest',\n",
       " 'circumst',\n",
       " 'eventail',\n",
       " 'midinett',\n",
       " 'tokay',\n",
       " 'pfirsichnektar',\n",
       " 'schlob',\n",
       " 'bèze',\n",
       " 'bangkok',\n",
       " 'kalbskotelett',\n",
       " 'laranja',\n",
       " 'grassl',\n",
       " 'pride',\n",
       " 'cuillier',\n",
       " 'vivaneau',\n",
       " 'cote',\n",
       " 'kocsonykav',\n",
       " 'progrè',\n",
       " 'flambé',\n",
       " 'auf',\n",
       " 'kuyper',\n",
       " 'pemartin',\n",
       " 'leve',\n",
       " 'cinnamon',\n",
       " 'aida',\n",
       " 'duo',\n",
       " 'nierstein',\n",
       " 'cannib',\n",
       " 'beachcomb',\n",
       " 'cru',\n",
       " 'ravioli',\n",
       " 'iren',\n",
       " 'iberian',\n",
       " 'salatav',\n",
       " 'truff',\n",
       " 'egidiana',\n",
       " 'ledoyen',\n",
       " 'moux',\n",
       " 'saladri',\n",
       " 'dewey',\n",
       " 'porterhou',\n",
       " 'leber',\n",
       " 'halbtrocken',\n",
       " 'reim',\n",
       " 'ronnbarsgel',\n",
       " 'egmont',\n",
       " 'bateaux',\n",
       " 'jackson',\n",
       " 'lorm',\n",
       " 'soßen',\n",
       " 'croquetten',\n",
       " 'cinqu',\n",
       " 'cecili',\n",
       " 'bisquit',\n",
       " 'import',\n",
       " 'delatour',\n",
       " 'pit',\n",
       " 'diabl',\n",
       " 'sefton',\n",
       " 'yolk',\n",
       " 'heart',\n",
       " 'nockerln',\n",
       " 'cobbler',\n",
       " 'entre',\n",
       " 'casba',\n",
       " 'armi',\n",
       " 'grune',\n",
       " 'monpol',\n",
       " 'almandin',\n",
       " 'denmark',\n",
       " 'jalapeno',\n",
       " 'laboureur',\n",
       " 'castellan',\n",
       " 'lambal',\n",
       " 'pour',\n",
       " 'soleil',\n",
       " 'wax',\n",
       " 'winkelhausen',\n",
       " 'trophi',\n",
       " 'breakfast',\n",
       " 'brocoli',\n",
       " 'ouest',\n",
       " 'rondel',\n",
       " 'forestier',\n",
       " 'gevey',\n",
       " 'crudit',\n",
       " 'laurel',\n",
       " 'deporto',\n",
       " 'rectifi',\n",
       " 'rissotto',\n",
       " 'raye',\n",
       " 'floatwhite',\n",
       " 'georg',\n",
       " 'lane',\n",
       " 'yard',\n",
       " 'andouil',\n",
       " 'ochsenschwanz',\n",
       " 'rheingauer',\n",
       " 'lié',\n",
       " 'leveshu',\n",
       " 'nocciola',\n",
       " 'loup',\n",
       " 'coquelicot',\n",
       " 'ihnen',\n",
       " 'robert',\n",
       " 'parchment',\n",
       " 'canadian',\n",
       " 'hominu',\n",
       " 'omlet',\n",
       " 'bunter',\n",
       " 'fur',\n",
       " 'aguac',\n",
       " 'goldstückchen',\n",
       " 'piqu',\n",
       " 'rahmkas',\n",
       " 'bard',\n",
       " 'pear',\n",
       " 'jar',\n",
       " 'tsp',\n",
       " 'c',\n",
       " 'hot',\n",
       " 'duerkheim',\n",
       " 'vol',\n",
       " 'rôti',\n",
       " 'siegel',\n",
       " 'notic',\n",
       " 'geflugel',\n",
       " 'savoureus',\n",
       " 'trout',\n",
       " 'pimm',\n",
       " 'clicoquot',\n",
       " 'bruchspargel',\n",
       " 'ximen',\n",
       " 'perigu',\n",
       " 'cut',\n",
       " 'flute',\n",
       " 'canet',\n",
       " 'biscott',\n",
       " 'fleurron',\n",
       " 'haro',\n",
       " 'aptit',\n",
       " 'dann',\n",
       " 'bamboo',\n",
       " 'erbach',\n",
       " 'nurbong',\n",
       " 'londonderri',\n",
       " 'rehpastet',\n",
       " 'qualitatswein',\n",
       " 'fencker',\n",
       " 'hagen',\n",
       " 'tee',\n",
       " 'marmit',\n",
       " 'hummercrem',\n",
       " 'poud',\n",
       " 'russ',\n",
       " 'dentsch',\n",
       " 'portofino',\n",
       " 'sheep',\n",
       " 'sate',\n",
       " 'essenc',\n",
       " 'plock',\n",
       " 'retail',\n",
       " 'squirrel',\n",
       " 'tzimm',\n",
       " 'vermicel',\n",
       " 'plfaumen',\n",
       " 'dupuy',\n",
       " 'jewel',\n",
       " 'molson',\n",
       " 'margaux',\n",
       " 'fegatini',\n",
       " 'sultan',\n",
       " 'dog',\n",
       " 'salmi',\n",
       " 'broch',\n",
       " 'zwiebelfleisch',\n",
       " 'jarbroil',\n",
       " 'concord',\n",
       " 'parmenti',\n",
       " 'prestig',\n",
       " 'staiber',\n",
       " 'kälbern',\n",
       " 'macédoin',\n",
       " 'bien',\n",
       " 'ratsweinkel',\n",
       " 'godkyckl',\n",
       " 'cordial',\n",
       " 'nelli',\n",
       " 'lok',\n",
       " 'gebrat',\n",
       " 'gibier',\n",
       " 'labatt',\n",
       " 'lopez',\n",
       " 'madonna',\n",
       " 'chong',\n",
       " 'huhn',\n",
       " 'colleg',\n",
       " 'weizen',\n",
       " 'vintner',\n",
       " 'chaudfroid',\n",
       " 'wine',\n",
       " 'appet',\n",
       " 'belfast',\n",
       " 'korean',\n",
       " 'fritt',\n",
       " 'burrito',\n",
       " 'pepe',\n",
       " 'laxforel',\n",
       " 'sahn',\n",
       " 'bierwurst',\n",
       " 'dind',\n",
       " 'servyd',\n",
       " 'leberknodel',\n",
       " 'tablet',\n",
       " 'plump',\n",
       " 'guntrum',\n",
       " 'squadron',\n",
       " 'gordon',\n",
       " 'boissier',\n",
       " 'vollmalzbi',\n",
       " 'burlington',\n",
       " 'holländisch',\n",
       " 'asi',\n",
       " 'piémontais',\n",
       " 'mephisto',\n",
       " 'settimanali',\n",
       " 'xére',\n",
       " 'nostranotomaten',\n",
       " 'pâtisseri',\n",
       " 'welch',\n",
       " 'bombay',\n",
       " 'junket',\n",
       " 'diva',\n",
       " 'salzburg',\n",
       " 'kukensalat',\n",
       " 'monogramchampignon',\n",
       " 'hash',\n",
       " 'aiguebel',\n",
       " 'ingelnook',\n",
       " 'baconsauc',\n",
       " 'friday',\n",
       " 'frifch',\n",
       " 'gerostet',\n",
       " 'aldo',\n",
       " 'rostbiff',\n",
       " 'color',\n",
       " 'lohr',\n",
       " 'draft',\n",
       " 'csirk',\n",
       " 'tourain',\n",
       " 'swet',\n",
       " 'pounder',\n",
       " 'pilgerpfad',\n",
       " 'salatroastbeef',\n",
       " 'percol',\n",
       " 'v',\n",
       " 'sew',\n",
       " 'delorm',\n",
       " 'crabstick',\n",
       " 'gourmand',\n",
       " 'meunier',\n",
       " 'kid',\n",
       " 'lyoner',\n",
       " 'wheatsworth',\n",
       " 'food',\n",
       " 'elixir',\n",
       " 'ambassadric',\n",
       " 'rhine',\n",
       " 'reserv',\n",
       " 'pfannenkuchen',\n",
       " 'belair',\n",
       " 'kasestang',\n",
       " 'delici',\n",
       " 'glaceret',\n",
       " 'pierc',\n",
       " 'fischer',\n",
       " 'insalata',\n",
       " 'german',\n",
       " 'ubaldo',\n",
       " 'indivdu',\n",
       " 'pepperonisteak',\n",
       " 'duxcel',\n",
       " 'cheesfrog',\n",
       " 'hip',\n",
       " 'jaunay',\n",
       " 'meunièr',\n",
       " 'vapor',\n",
       " 'quaker',\n",
       " 'jahreszeit',\n",
       " 'canteloup',\n",
       " 'renault',\n",
       " 'sabayon',\n",
       " 'duval',\n",
       " 'talleyrand',\n",
       " 'kiedrich',\n",
       " 'orchard',\n",
       " 'setzei',\n",
       " 'purpos',\n",
       " 'cloud',\n",
       " 'rouennais',\n",
       " 'rindfl',\n",
       " 'spatburgund',\n",
       " 'pickl',\n",
       " 'rugbrauoi',\n",
       " 'princ',\n",
       " 'koblen',\n",
       " 'full',\n",
       " 'lièvr',\n",
       " 'jacob',\n",
       " 'bud',\n",
       " 'ragôut',\n",
       " 'belegt',\n",
       " 'central',\n",
       " 'pintadeau',\n",
       " 'chruter',\n",
       " 'mm',\n",
       " 'watertown',\n",
       " 'sauc',\n",
       " 'mound',\n",
       " 'delicbowl',\n",
       " 'divers',\n",
       " 'pain',\n",
       " 'holskamp',\n",
       " 'texa',\n",
       " 'kukenleb',\n",
       " 'turkish',\n",
       " 'ju',\n",
       " 'h',\n",
       " 'weichsel',\n",
       " 'condiment',\n",
       " 'wilder',\n",
       " 'karri',\n",
       " 'superb',\n",
       " 'marget',\n",
       " 'mess',\n",
       " 'banquier',\n",
       " 'pistachoo',\n",
       " 'papa',\n",
       " 'susett',\n",
       " 'chines',\n",
       " 'zeller',\n",
       " 'tenuta',\n",
       " 'dore',\n",
       " 'steltzner',\n",
       " 'caffin',\n",
       " 'huîtr',\n",
       " 'pralin',\n",
       " 'dufour',\n",
       " 'beaufort',\n",
       " 'edward',\n",
       " 'piacer',\n",
       " 'sautierten',\n",
       " 'noodl',\n",
       " 'supp',\n",
       " 'piesport',\n",
       " 'yaourt',\n",
       " 'coff',\n",
       " 'squar',\n",
       " 'potatocrab',\n",
       " 'boston',\n",
       " 'liebfraumilch',\n",
       " 'casey',\n",
       " 'moutet',\n",
       " 'carmel',\n",
       " 'grandad',\n",
       " 'cooper',\n",
       " 'cup',\n",
       " 'dinner',\n",
       " 'jardienier',\n",
       " 'guillaum',\n",
       " 'island',\n",
       " 'milchmasthahnchen',\n",
       " 'garden',\n",
       " 'cockburn',\n",
       " 'fare',\n",
       " 'geroosterd',\n",
       " 'dampfkartoffel',\n",
       " 'stripe',\n",
       " 'blauen',\n",
       " 'antoin',\n",
       " 'occas',\n",
       " 'diplom',\n",
       " 'roi',\n",
       " 'gorg',\n",
       " 'anchoi',\n",
       " 'reynon',\n",
       " 'francisco',\n",
       " 'übergebraten',\n",
       " 'marinierten',\n",
       " 'bitter',\n",
       " 'serpentin',\n",
       " 'faisan',\n",
       " 'raspberribroil',\n",
       " 'rassigem',\n",
       " 'refresh',\n",
       " 'sunda',\n",
       " 'paris',\n",
       " 'gray',\n",
       " 'powder',\n",
       " 'veg',\n",
       " 'fizz',\n",
       " 'elliott',\n",
       " 'redfish',\n",
       " 'erden',\n",
       " 'gemischt',\n",
       " 'gtomato',\n",
       " 'englisch',\n",
       " 'nur',\n",
       " 'monday',\n",
       " 'oaken',\n",
       " 'bohémienn',\n",
       " 'gruner',\n",
       " 'omer',\n",
       " 'hang',\n",
       " 'accept',\n",
       " 'premium',\n",
       " 'fragol',\n",
       " 'heat',\n",
       " 'suedois',\n",
       " 'sour',\n",
       " 'camembert',\n",
       " 'carnet',\n",
       " 'klosterbrauerei',\n",
       " 'americano',\n",
       " 'pimienta',\n",
       " 'pote',\n",
       " 'santiago',\n",
       " 'archiduc',\n",
       " 'patna',\n",
       " 'massena',\n",
       " 'mirabel',\n",
       " 'healthi',\n",
       " 'ground',\n",
       " 'unfer',\n",
       " 'foie',\n",
       " 'shortag',\n",
       " 'rossolnick',\n",
       " 'stick',\n",
       " 'gruyer',\n",
       " 'cow',\n",
       " 'jorn',\n",
       " 'cascad',\n",
       " 'almondin',\n",
       " 'lawrenc',\n",
       " 'marinaden',\n",
       " 'adappelschlaat',\n",
       " 'canelon',\n",
       " 'la',\n",
       " 'saug',\n",
       " 'costeleta',\n",
       " 'fonseca',\n",
       " 'beeren',\n",
       " 'cadillac',\n",
       " 'brut',\n",
       " 'gourmet',\n",
       " 'ambassador',\n",
       " 'morand',\n",
       " 'morcheln',\n",
       " 'westphalia',\n",
       " 'gum',\n",
       " 'wellington',\n",
       " 'ananaskompott',\n",
       " 'plainorang',\n",
       " 'muir',\n",
       " 'poispaghetti',\n",
       " 'francai',\n",
       " 'roder',\n",
       " 'braten',\n",
       " 'grower',\n",
       " 'cabaret',\n",
       " 'parsnip',\n",
       " 'dutempl',\n",
       " 'honig',\n",
       " 'pahlan',\n",
       " 'digest',\n",
       " 'jesuitengarten',\n",
       " 'honigkuschen',\n",
       " 'domest',\n",
       " 'pfefferschoten',\n",
       " 'tendr',\n",
       " 'wood',\n",
       " 'meerrettichsauc',\n",
       " 'carmelita',\n",
       " 'kilmarnock',\n",
       " 'dieti',\n",
       " 'domtal',\n",
       " 'musti',\n",
       " 'lamaross',\n",
       " 'lick',\n",
       " 'cassoni',\n",
       " 'almaden',\n",
       " 'beefsteak',\n",
       " 'danemark',\n",
       " 'julien',\n",
       " 'homini',\n",
       " 'kirchenstuck',\n",
       " 'kalv',\n",
       " 'coruba',\n",
       " 'benedict',\n",
       " 'ragout',\n",
       " 'real',\n",
       " 'westfalisch',\n",
       " 'platter',\n",
       " 'richmond',\n",
       " 'whiskey',\n",
       " 'acedophilu',\n",
       " 'schinkenstreifen',\n",
       " 'appetis',\n",
       " 'wachenheim',\n",
       " 'jatterakor',\n",
       " 'branzino',\n",
       " 'gronsakssoppa',\n",
       " 'nussbrunn',\n",
       " 'open',\n",
       " 'baguett',\n",
       " 'amysoup',\n",
       " 'colbi',\n",
       " 'pitcher',\n",
       " 'rhein',\n",
       " 'pastel',\n",
       " 'regular',\n",
       " 'back',\n",
       " 'turqu',\n",
       " 'grant',\n",
       " 'make',\n",
       " 'pökelrippchen',\n",
       " 'je',\n",
       " 'schwedenfrucht',\n",
       " 'chairgnol',\n",
       " 'mattituck',\n",
       " 'slide',\n",
       " 'vitela',\n",
       " 'richard',\n",
       " 'dublin',\n",
       " 'aquavit',\n",
       " 'nero',\n",
       " 'cling',\n",
       " 'côte',\n",
       " 'hochheim',\n",
       " 'cannoli',\n",
       " 'freshli',\n",
       " 'geflügelleb',\n",
       " 'ceylon',\n",
       " 'scozia',\n",
       " 'tiki',\n",
       " 'laland',\n",
       " 'vierland',\n",
       " 'souvarow',\n",
       " 'joe',\n",
       " 'marlbank',\n",
       " 'soghol',\n",
       " 'mr',\n",
       " 'yeast',\n",
       " 'chardonnay',\n",
       " 'shrimpsalad',\n",
       " 'brizola',\n",
       " 'brotzeit',\n",
       " 'forsster',\n",
       " 'desir',\n",
       " 'hame',\n",
       " 'kaiserhof',\n",
       " 'ruedensheim',\n",
       " 'wing',\n",
       " 'put',\n",
       " 'peer',\n",
       " 'taubenbrust',\n",
       " 'jouet',\n",
       " 'kastel',\n",
       " 'schmorapfeln',\n",
       " 'beenderen',\n",
       " 'espada',\n",
       " 'moscato',\n",
       " 'celestin',\n",
       " 'musigni',\n",
       " 'rødspætte',\n",
       " 'dupui',\n",
       " 'domenica',\n",
       " 'poysdorf',\n",
       " 'capretto',\n",
       " 'gratinirt',\n",
       " 'stamm',\n",
       " 'pere',\n",
       " 'karoffelbrei',\n",
       " 'vorspeis',\n",
       " 'gebr',\n",
       " 'astic',\n",
       " 'packnew',\n",
       " 'frittatensupp',\n",
       " 'graupensupp',\n",
       " 'rosso',\n",
       " 'thick',\n",
       " 'chanson',\n",
       " 'wander',\n",
       " 'affenthal',\n",
       " 'schlader',\n",
       " 'bratkartoffelnmozart',\n",
       " 'macaroni',\n",
       " 'cacahuet',\n",
       " 'havanais',\n",
       " 'wirs',\n",
       " 'frchte',\n",
       " 'polanais',\n",
       " 'eigelb',\n",
       " 'marzipan',\n",
       " 'babian',\n",
       " 'vogelsang',\n",
       " 'gefroren',\n",
       " 'champinjonomelett',\n",
       " 'dew',\n",
       " 'postum',\n",
       " 'yve',\n",
       " 'keta',\n",
       " 'samp',\n",
       " 'clark',\n",
       " 'carciofi',\n",
       " 'ja',\n",
       " 'spaetzel',\n",
       " 'fletan',\n",
       " 'gamberi',\n",
       " 'chenin',\n",
       " 'mathafarneithaf',\n",
       " 'champagen',\n",
       " 'labrador',\n",
       " 'melini',\n",
       " 'thurmberg',\n",
       " 'vert',\n",
       " 'ganseleberschaumspeis',\n",
       " 'avant',\n",
       " 'amsterdampork',\n",
       " 'vista',\n",
       " 'selzer',\n",
       " 'bavarois',\n",
       " 'zentralk',\n",
       " 'meyer',\n",
       " 'burgonyav',\n",
       " 'basilikumblättern',\n",
       " 'mistral',\n",
       " 'apfelscheiben',\n",
       " 'rochest',\n",
       " 'diabolo',\n",
       " 'misto',\n",
       " 'murbebraten',\n",
       " 'grilltom',\n",
       " 'délice',\n",
       " 'origin',\n",
       " 'seezungenstreifen',\n",
       " 'livercharcoal',\n",
       " 'pontet',\n",
       " 'number',\n",
       " 'palma',\n",
       " 'croix',\n",
       " 'thymianrahmsauc',\n",
       " 'fondutenderloin',\n",
       " 'moul',\n",
       " 'poi',\n",
       " 'neuweier',\n",
       " 'onionz',\n",
       " 'margareta',\n",
       " 'mimm',\n",
       " 'high',\n",
       " 'doe',\n",
       " 'buffalo',\n",
       " 'niagara',\n",
       " 'papia',\n",
       " 'passugg',\n",
       " 'lamel',\n",
       " 'thursday',\n",
       " 'bottlpig',\n",
       " 'bièr',\n",
       " 'vaudesir',\n",
       " 'mint',\n",
       " 'santa',\n",
       " 'pouss',\n",
       " 'kitchen',\n",
       " 'indv',\n",
       " 'grit',\n",
       " 'tartufi',\n",
       " 'shane',\n",
       " 'noellat',\n",
       " 'mysglyn',\n",
       " 'versaillais',\n",
       " 'tafelspitz',\n",
       " 'roli',\n",
       " 'beaucail',\n",
       " 'persh',\n",
       " 'naranja',\n",
       " 'mango',\n",
       " 'va',\n",
       " 'arrosto',\n",
       " 'sheri',\n",
       " 'schweinsnier',\n",
       " 'mile',\n",
       " 'edg',\n",
       " 'uberschmolzen',\n",
       " 'freezoment',\n",
       " 'liberian',\n",
       " 'spatles',\n",
       " 'bri',\n",
       " 'cresca',\n",
       " 'gardenia',\n",
       " 'tropicana',\n",
       " 'cluck',\n",
       " 'taitting',\n",
       " 'germini',\n",
       " 'dolfi',\n",
       " 'cabana',\n",
       " 'margarin',\n",
       " 'porto',\n",
       " 'armagnac',\n",
       " 'bourgeoi',\n",
       " 'burro',\n",
       " 'semoul',\n",
       " 'lasagna',\n",
       " 'longley',\n",
       " 'kapaum',\n",
       " 'capesant',\n",
       " 'spargel',\n",
       " 'gek',\n",
       " 'espárrago',\n",
       " 'ou',\n",
       " 'jerico',\n",
       " 'spear',\n",
       " 'maiones',\n",
       " 'eiscrem',\n",
       " 'schnittbohnen',\n",
       " 'fermier',\n",
       " 'béatric',\n",
       " 'wyth',\n",
       " 'pontraus',\n",
       " 'ceasar',\n",
       " 'champignonsupp',\n",
       " 'stone',\n",
       " 'entenwurstchen',\n",
       " 'salzkartoffeln',\n",
       " 'duck',\n",
       " 'galett',\n",
       " 'baltic',\n",
       " 'chaud',\n",
       " 'baar',\n",
       " 'vini',\n",
       " 'derstappen',\n",
       " 'marbl',\n",
       " 'gratin',\n",
       " 'quail',\n",
       " 'mouquin',\n",
       " 'mastent',\n",
       " 'asopao',\n",
       " 'still',\n",
       " 'krebssupp',\n",
       " 'hillcrest',\n",
       " 'hine',\n",
       " 'platt',\n",
       " 'pure',\n",
       " 'vernon',\n",
       " 'laujac',\n",
       " 'epaul',\n",
       " 'bittner',\n",
       " 'woodcock',\n",
       " 'dorada',\n",
       " 'pauillac',\n",
       " 'schokolad',\n",
       " 'poche',\n",
       " 'couronn',\n",
       " 'schwarzbrot',\n",
       " 'cuvé',\n",
       " 'rotkraut',\n",
       " 'domestic',\n",
       " 'rye',\n",
       " 'vitloksmor',\n",
       " 'spleen',\n",
       " 'die',\n",
       " 'rienzi',\n",
       " 'neopolitan',\n",
       " 'bouliac',\n",
       " 'schlachtung',\n",
       " 'seawanhaka',\n",
       " 'tranben',\n",
       " 'roeder',\n",
       " 'allumett',\n",
       " 'robl',\n",
       " 'solef',\n",
       " 'j',\n",
       " 'américain',\n",
       " 'venetienn',\n",
       " 'maial',\n",
       " 'radi',\n",
       " 'lumbard',\n",
       " 'green',\n",
       " 'tartelett',\n",
       " 'longhorn',\n",
       " 'baltiqu',\n",
       " 'etwa',\n",
       " 'liquoreux',\n",
       " 'imperi',\n",
       " 'véroniqu',\n",
       " 'weakfish',\n",
       " 'fraisesprimeur',\n",
       " 'eleg',\n",
       " 'cuba',\n",
       " 'schoenhofen',\n",
       " 'une',\n",
       " 'brandteigkrapferl',\n",
       " 'shrimp',\n",
       " 'bloater',\n",
       " 'charolai',\n",
       " 'glaze',\n",
       " 'schweinecotelett',\n",
       " 'deck',\n",
       " 'vivernais',\n",
       " 'steam',\n",
       " 'helgoländ',\n",
       " 'eel',\n",
       " 'fountain',\n",
       " 'kurfurstlay',\n",
       " 'entero',\n",
       " 'potschwarz',\n",
       " 'risole',\n",
       " 'tafel',\n",
       " 'fahrhau',\n",
       " 'braunschweig',\n",
       " 'soße',\n",
       " 'swirl',\n",
       " 'espana',\n",
       " 'auld',\n",
       " 'wurstchen',\n",
       " 'isaac',\n",
       " 'liederkranz',\n",
       " 'crumb',\n",
       " 'josephshof',\n",
       " 'mondavi',\n",
       " 'bieten',\n",
       " 'pasti',\n",
       " 'alsatian',\n",
       " 'caviar',\n",
       " 'concha',\n",
       " 'peppermint',\n",
       " 'feinschmeck',\n",
       " 'latlitt',\n",
       " 'quich',\n",
       " 'farci',\n",
       " 'puchero',\n",
       " 'xo',\n",
       " 'maximilian',\n",
       " 'gebäck',\n",
       " 'roulé',\n",
       " 'brennan',\n",
       " 'lach',\n",
       " 'sallad',\n",
       " 'difficult',\n",
       " 'reysson',\n",
       " 'sauteren',\n",
       " 'supr',\n",
       " 'cumhal',\n",
       " 'patt',\n",
       " 'mash',\n",
       " 'griddl',\n",
       " 'scientif',\n",
       " 'karotten',\n",
       " 'paprikabutt',\n",
       " 'saue',\n",
       " 'fill',\n",
       " 'szomorodni',\n",
       " 'amour',\n",
       " 'leberragout',\n",
       " 'ailé',\n",
       " 'agneau',\n",
       " 'hauswein',\n",
       " 'broth',\n",
       " 'room',\n",
       " 'age',\n",
       " 'rotwien',\n",
       " 'caramélisé',\n",
       " 'spezialsupp',\n",
       " 'portugai',\n",
       " 'cl',\n",
       " 'dice',\n",
       " 'sevign',\n",
       " 'stubenkucken',\n",
       " 'mall',\n",
       " 'chambord',\n",
       " 'weigand',\n",
       " 'kwe',\n",
       " 'makkaroni',\n",
       " 'himber',\n",
       " 'gewurtztramin',\n",
       " 'veneziana',\n",
       " 'mackerel',\n",
       " 'gombo',\n",
       " 'pipian',\n",
       " 'mei',\n",
       " 'sunset',\n",
       " 'armour',\n",
       " 'eberspach',\n",
       " 'almighti',\n",
       " 'pizza',\n",
       " 'coquillett',\n",
       " 'ribe',\n",
       " 'neuchatelois',\n",
       " 'goldstein',\n",
       " 'ron',\n",
       " 'salad',\n",
       " 'un',\n",
       " 'haddock',\n",
       " 'schipp',\n",
       " 'steven',\n",
       " 'farceret',\n",
       " 'bourgeois',\n",
       " 'pedaqu',\n",
       " 'courgett',\n",
       " 'lax',\n",
       " 'bean',\n",
       " 'trafalgar',\n",
       " 'tartellett',\n",
       " 'emparedado',\n",
       " 'agria',\n",
       " 'konigen',\n",
       " 'simmer',\n",
       " 'domain',\n",
       " 'qba',\n",
       " 'filetspitzen',\n",
       " 'gebert',\n",
       " 'stangenbrot',\n",
       " 'schaumwein',\n",
       " 'lyonais',\n",
       " '宫保雞丁',\n",
       " ...}"
      ]
     },
     "metadata": {},
     "execution_count": 95
    }
   ]
  },
  {
   "source": [
    "### Creating resto dishes dataframe"
   ],
   "cell_type": "markdown",
   "metadata": {}
  },
  {
   "cell_type": "code",
   "execution_count": 97,
   "metadata": {},
   "outputs": [],
   "source": [
    "resto_dishes_df = pd.DataFrame([], columns=list(unique_dishes), index = restos_df[\"resto_id\"].tolist())"
   ]
  },
  {
   "cell_type": "code",
   "execution_count": 99,
   "metadata": {},
   "outputs": [
    {
     "output_type": "stream",
     "name": "stdout",
     "text": [
      "<class 'pandas.core.frame.DataFrame'>\nInt64Index: 200 entries, 0 to 199\nColumns: 8292 entries, velout to gefuelt\ndtypes: object(8292)\nmemory usage: 12.7+ MB\n"
     ]
    }
   ],
   "source": [
    "resto_dishes_df.info()"
   ]
  },
  {
   "cell_type": "code",
   "execution_count": 98,
   "metadata": {},
   "outputs": [
    {
     "output_type": "execute_result",
     "data": {
      "text/plain": [
       "  velout  ger type like schlosskartoffel wild matj saumone ausgelostem  kaa  \\\n",
       "0    NaN  NaN  NaN  NaN              NaN  NaN  NaN     NaN         NaN  NaN   \n",
       "1    NaN  NaN  NaN  NaN              NaN  NaN  NaN     NaN         NaN  NaN   \n",
       "2    NaN  NaN  NaN  NaN              NaN  NaN  NaN     NaN         NaN  NaN   \n",
       "3    NaN  NaN  NaN  NaN              NaN  NaN  NaN     NaN         NaN  NaN   \n",
       "4    NaN  NaN  NaN  NaN              NaN  NaN  NaN     NaN         NaN  NaN   \n",
       "\n",
       "   ... feket servic commun earli blanchail rahmschnitzel beerenausles  \\\n",
       "0  ...   NaN    NaN    NaN   NaN       NaN           NaN          NaN   \n",
       "1  ...   NaN    NaN    NaN   NaN       NaN           NaN          NaN   \n",
       "2  ...   NaN    NaN    NaN   NaN       NaN           NaN          NaN   \n",
       "3  ...   NaN    NaN    NaN   NaN       NaN           NaN          NaN   \n",
       "4  ...   NaN    NaN    NaN   NaN       NaN           NaN          NaN   \n",
       "\n",
       "  oriental poorboy gefuelt  \n",
       "0      NaN     NaN     NaN  \n",
       "1      NaN     NaN     NaN  \n",
       "2      NaN     NaN     NaN  \n",
       "3      NaN     NaN     NaN  \n",
       "4      NaN     NaN     NaN  \n",
       "\n",
       "[5 rows x 8292 columns]"
      ],
      "text/html": "<div>\n<style scoped>\n    .dataframe tbody tr th:only-of-type {\n        vertical-align: middle;\n    }\n\n    .dataframe tbody tr th {\n        vertical-align: top;\n    }\n\n    .dataframe thead th {\n        text-align: right;\n    }\n</style>\n<table border=\"1\" class=\"dataframe\">\n  <thead>\n    <tr style=\"text-align: right;\">\n      <th></th>\n      <th>velout</th>\n      <th>ger</th>\n      <th>type</th>\n      <th>like</th>\n      <th>schlosskartoffel</th>\n      <th>wild</th>\n      <th>matj</th>\n      <th>saumone</th>\n      <th>ausgelostem</th>\n      <th>kaa</th>\n      <th>...</th>\n      <th>feket</th>\n      <th>servic</th>\n      <th>commun</th>\n      <th>earli</th>\n      <th>blanchail</th>\n      <th>rahmschnitzel</th>\n      <th>beerenausles</th>\n      <th>oriental</th>\n      <th>poorboy</th>\n      <th>gefuelt</th>\n    </tr>\n  </thead>\n  <tbody>\n    <tr>\n      <th>0</th>\n      <td>NaN</td>\n      <td>NaN</td>\n      <td>NaN</td>\n      <td>NaN</td>\n      <td>NaN</td>\n      <td>NaN</td>\n      <td>NaN</td>\n      <td>NaN</td>\n      <td>NaN</td>\n      <td>NaN</td>\n      <td>...</td>\n      <td>NaN</td>\n      <td>NaN</td>\n      <td>NaN</td>\n      <td>NaN</td>\n      <td>NaN</td>\n      <td>NaN</td>\n      <td>NaN</td>\n      <td>NaN</td>\n      <td>NaN</td>\n      <td>NaN</td>\n    </tr>\n    <tr>\n      <th>1</th>\n      <td>NaN</td>\n      <td>NaN</td>\n      <td>NaN</td>\n      <td>NaN</td>\n      <td>NaN</td>\n      <td>NaN</td>\n      <td>NaN</td>\n      <td>NaN</td>\n      <td>NaN</td>\n      <td>NaN</td>\n      <td>...</td>\n      <td>NaN</td>\n      <td>NaN</td>\n      <td>NaN</td>\n      <td>NaN</td>\n      <td>NaN</td>\n      <td>NaN</td>\n      <td>NaN</td>\n      <td>NaN</td>\n      <td>NaN</td>\n      <td>NaN</td>\n    </tr>\n    <tr>\n      <th>2</th>\n      <td>NaN</td>\n      <td>NaN</td>\n      <td>NaN</td>\n      <td>NaN</td>\n      <td>NaN</td>\n      <td>NaN</td>\n      <td>NaN</td>\n      <td>NaN</td>\n      <td>NaN</td>\n      <td>NaN</td>\n      <td>...</td>\n      <td>NaN</td>\n      <td>NaN</td>\n      <td>NaN</td>\n      <td>NaN</td>\n      <td>NaN</td>\n      <td>NaN</td>\n      <td>NaN</td>\n      <td>NaN</td>\n      <td>NaN</td>\n      <td>NaN</td>\n    </tr>\n    <tr>\n      <th>3</th>\n      <td>NaN</td>\n      <td>NaN</td>\n      <td>NaN</td>\n      <td>NaN</td>\n      <td>NaN</td>\n      <td>NaN</td>\n      <td>NaN</td>\n      <td>NaN</td>\n      <td>NaN</td>\n      <td>NaN</td>\n      <td>...</td>\n      <td>NaN</td>\n      <td>NaN</td>\n      <td>NaN</td>\n      <td>NaN</td>\n      <td>NaN</td>\n      <td>NaN</td>\n      <td>NaN</td>\n      <td>NaN</td>\n      <td>NaN</td>\n      <td>NaN</td>\n    </tr>\n    <tr>\n      <th>4</th>\n      <td>NaN</td>\n      <td>NaN</td>\n      <td>NaN</td>\n      <td>NaN</td>\n      <td>NaN</td>\n      <td>NaN</td>\n      <td>NaN</td>\n      <td>NaN</td>\n      <td>NaN</td>\n      <td>NaN</td>\n      <td>...</td>\n      <td>NaN</td>\n      <td>NaN</td>\n      <td>NaN</td>\n      <td>NaN</td>\n      <td>NaN</td>\n      <td>NaN</td>\n      <td>NaN</td>\n      <td>NaN</td>\n      <td>NaN</td>\n      <td>NaN</td>\n    </tr>\n  </tbody>\n</table>\n<p>5 rows × 8292 columns</p>\n</div>"
     },
     "metadata": {},
     "execution_count": 98
    }
   ],
   "source": [
    "resto_dishes_df.head()"
   ]
  },
  {
   "cell_type": "code",
   "execution_count": 100,
   "metadata": {},
   "outputs": [],
   "source": [
    "resto_ids = restos_df[\"resto_id\"].tolist()"
   ]
  },
  {
   "cell_type": "code",
   "execution_count": 112,
   "metadata": {},
   "outputs": [],
   "source": [
    "unique_dishes_columns = resto_dishes_df.columns.tolist()"
   ]
  },
  {
   "cell_type": "code",
   "execution_count": 145,
   "metadata": {
    "tags": []
   },
   "outputs": [],
   "source": [
    "for resto_id in resto_ids:\n",
    "    resto_dishes = Convert(restos_df.loc[resto_id,\"dishes\"])\n",
    "    for dish_column in unique_dishes_columns:\n",
    "        if dish_column in resto_dishes:\n",
    "            resto_dishes_df.loc[resto_id,dish_column] = 1\n",
    "        else:\n",
    "            resto_dishes_df.loc[resto_id,dish_column] = 0\n"
   ]
  },
  {
   "cell_type": "code",
   "execution_count": 146,
   "metadata": {},
   "outputs": [
    {
     "output_type": "execute_result",
     "data": {
      "text/plain": [
       "  velout ger type like schlosskartoffel wild matj saumone ausgelostem kaa  \\\n",
       "0      1   0    0    0                0    0    0       0           0   0   \n",
       "1      0   0    0    0                0    0    0       0           0   1   \n",
       "2      0   0    0    0                0    0    0       0           0   0   \n",
       "3      0   0    0    0                0    0    0       0           0   0   \n",
       "4      0   0    0    0                0    0    0       0           0   0   \n",
       "\n",
       "   ... feket servic commun earli blanchail rahmschnitzel beerenausles  \\\n",
       "0  ...     0      0      0     0         0             0            0   \n",
       "1  ...     0      0      0     0         0             0            0   \n",
       "2  ...     0      0      0     0         0             0            0   \n",
       "3  ...     0      0      0     0         0             0            0   \n",
       "4  ...     0      0      0     0         0             0            0   \n",
       "\n",
       "  oriental poorboy gefuelt  \n",
       "0        0       0       0  \n",
       "1        0       0       0  \n",
       "2        0       0       0  \n",
       "3        0       0       0  \n",
       "4        0       0       0  \n",
       "\n",
       "[5 rows x 8292 columns]"
      ],
      "text/html": "<div>\n<style scoped>\n    .dataframe tbody tr th:only-of-type {\n        vertical-align: middle;\n    }\n\n    .dataframe tbody tr th {\n        vertical-align: top;\n    }\n\n    .dataframe thead th {\n        text-align: right;\n    }\n</style>\n<table border=\"1\" class=\"dataframe\">\n  <thead>\n    <tr style=\"text-align: right;\">\n      <th></th>\n      <th>velout</th>\n      <th>ger</th>\n      <th>type</th>\n      <th>like</th>\n      <th>schlosskartoffel</th>\n      <th>wild</th>\n      <th>matj</th>\n      <th>saumone</th>\n      <th>ausgelostem</th>\n      <th>kaa</th>\n      <th>...</th>\n      <th>feket</th>\n      <th>servic</th>\n      <th>commun</th>\n      <th>earli</th>\n      <th>blanchail</th>\n      <th>rahmschnitzel</th>\n      <th>beerenausles</th>\n      <th>oriental</th>\n      <th>poorboy</th>\n      <th>gefuelt</th>\n    </tr>\n  </thead>\n  <tbody>\n    <tr>\n      <th>0</th>\n      <td>1</td>\n      <td>0</td>\n      <td>0</td>\n      <td>0</td>\n      <td>0</td>\n      <td>0</td>\n      <td>0</td>\n      <td>0</td>\n      <td>0</td>\n      <td>0</td>\n      <td>...</td>\n      <td>0</td>\n      <td>0</td>\n      <td>0</td>\n      <td>0</td>\n      <td>0</td>\n      <td>0</td>\n      <td>0</td>\n      <td>0</td>\n      <td>0</td>\n      <td>0</td>\n    </tr>\n    <tr>\n      <th>1</th>\n      <td>0</td>\n      <td>0</td>\n      <td>0</td>\n      <td>0</td>\n      <td>0</td>\n      <td>0</td>\n      <td>0</td>\n      <td>0</td>\n      <td>0</td>\n      <td>1</td>\n      <td>...</td>\n      <td>0</td>\n      <td>0</td>\n      <td>0</td>\n      <td>0</td>\n      <td>0</td>\n      <td>0</td>\n      <td>0</td>\n      <td>0</td>\n      <td>0</td>\n      <td>0</td>\n    </tr>\n    <tr>\n      <th>2</th>\n      <td>0</td>\n      <td>0</td>\n      <td>0</td>\n      <td>0</td>\n      <td>0</td>\n      <td>0</td>\n      <td>0</td>\n      <td>0</td>\n      <td>0</td>\n      <td>0</td>\n      <td>...</td>\n      <td>0</td>\n      <td>0</td>\n      <td>0</td>\n      <td>0</td>\n      <td>0</td>\n      <td>0</td>\n      <td>0</td>\n      <td>0</td>\n      <td>0</td>\n      <td>0</td>\n    </tr>\n    <tr>\n      <th>3</th>\n      <td>0</td>\n      <td>0</td>\n      <td>0</td>\n      <td>0</td>\n      <td>0</td>\n      <td>0</td>\n      <td>0</td>\n      <td>0</td>\n      <td>0</td>\n      <td>0</td>\n      <td>...</td>\n      <td>0</td>\n      <td>0</td>\n      <td>0</td>\n      <td>0</td>\n      <td>0</td>\n      <td>0</td>\n      <td>0</td>\n      <td>0</td>\n      <td>0</td>\n      <td>0</td>\n    </tr>\n    <tr>\n      <th>4</th>\n      <td>0</td>\n      <td>0</td>\n      <td>0</td>\n      <td>0</td>\n      <td>0</td>\n      <td>0</td>\n      <td>0</td>\n      <td>0</td>\n      <td>0</td>\n      <td>0</td>\n      <td>...</td>\n      <td>0</td>\n      <td>0</td>\n      <td>0</td>\n      <td>0</td>\n      <td>0</td>\n      <td>0</td>\n      <td>0</td>\n      <td>0</td>\n      <td>0</td>\n      <td>0</td>\n    </tr>\n  </tbody>\n</table>\n<p>5 rows × 8292 columns</p>\n</div>"
     },
     "metadata": {},
     "execution_count": 146
    }
   ],
   "source": [
    "resto_dishes_df.head()"
   ]
  },
  {
   "source": [
    "### Finding similar restos"
   ],
   "cell_type": "markdown",
   "metadata": {}
  },
  {
   "source": [
    "![alt text](cosine.png \"Cosine Similarity\")"
   ],
   "cell_type": "markdown",
   "metadata": {}
  },
  {
   "cell_type": "code",
   "execution_count": 153,
   "metadata": {},
   "outputs": [],
   "source": [
    "# import cosine_similarity from sklearn\n",
    "from sklearn.metrics.pairwise import cosine_similarity\n",
    "\n",
    "def similar_restos(resto_id, interactions_matrix):\n",
    "    \n",
    "    # compute similarity of each user to the provided user\n",
    "    similarity = []\n",
    "    for resto in range(0, interactions_matrix.shape[0]):\n",
    "        sim = cosine_similarity([interactions_matrix.loc[resto_id]], [interactions_matrix.loc[resto]])\n",
    "        similarity.append((resto,sim))\n",
    "        \n",
    "    # sort by similarity\n",
    "    similarity.sort(key=lambda x: x[1], reverse= True)\n",
    "    \n",
    "    # create list of just the user ids\n",
    "    most_similar_restos = [tup[0] for tup in similarity]\n",
    "    \n",
    "    # create list of similarity score\n",
    "    \n",
    "    similarity_score = [tup[1] for tup in similarity]\n",
    "    \n",
    "    # remove the resto's own id\n",
    "    most_similar_restos.remove(resto_id)\n",
    "    \n",
    "    \n",
    "    # remove the resto's own similarity score\n",
    "    similarity_score.remove(similarity_score[0])\n",
    "    \n",
    "       \n",
    "    return most_similar_restos, similarity_score"
   ]
  },
  {
   "cell_type": "code",
   "execution_count": 160,
   "metadata": {},
   "outputs": [],
   "source": [
    "def test_resto(resto_id, num_of_restos):\n",
    "    similar_restos_ids = similar_restos(resto_id, resto_dishes_df)[0][:num_of_restos]\n",
    "    print(similar_restos_ids)\n",
    "    print(\"resto dishes : \" + restos_df.loc[resto_id,\"dishes\"])\n",
    "    for sim_resto_id in similar_restos_ids:\n",
    "        print(\"similar resto dishes : \"+ str(sim_resto_id)+ \" : \" + restos_df.loc[sim_resto_id,\"dishes\"])\n",
    "    print(similar_restos(resto_id, resto_dishes_df)[1][:num_of_restos])"
   ]
  },
  {
   "cell_type": "code",
   "execution_count": 161,
   "metadata": {},
   "outputs": [
    {
     "output_type": "stream",
     "name": "stdout",
     "text": [
      "[168, 11, 144, 197, 98]\n",
      "resto dishes : half,broil,spring,chicken,au,beurr,bread,beef,tongu,czarin,château,léovil,la,case,mc,lalla,rook,pan,de,maiz,white,zweiback,import,wuerzburg,small,heart,lettuc,salad,kalamaria,toursi,appetis,young,fowl,smoke,bacon,new,england,pud,lemon,sauc,canap,russ,budweis,beer,fricasse,chicken,toast,broil,fresh,pike,mustard,butter,parsley,potato,glace,pistach,à,la,français,fri,sausag,sauerkraut,fri,shad,roe,bacon,gedenstet,aprikosen,shellfish,cold,platter,half,main,lobster,florida,shrimp,fresh,crabmeat,cherryston,clam,lettuc,celeri,mayonnais,cocktail,sauc,brown,palac,waffl,spring,lamb,chop,broil,california,salad,cottag,chees,assort,fruit,melon,gross,gedeck,kannchen,kaffe,oder,tee,brot,und,butter,dazu,einen,kleinen,aufschnitt,und,ei,nectaros,brown,vintner,cold,salmon,major,handi,sauc,preserv,satsuma,plum,mix,drink,le,carr,roti,persil,pomm,nouvel,per,new,asparagu,au,beurr,parmesan,claret,julien,fri,flounder,anchovi,sauc,berri,fruit,season,sour,cream,russian,raisin,cake,consomm,dietrich,cold,snow,pud,entrecott,beef,saut,sauc,colbert,petit,marmit,spaghetti,au,fromag,roast,bronx,cocktail,oz,individu,shrimp,cocktail,small,lettuc,plain,raw,saddl,rock,count,saluc,cruse,fil,frere,vin,de,grave,n,b,solicitor,scotch,whiskey,julien,media,botella,noisett,pork,chesapeak,cherri,layer,cake,consomm,en,tass,alphabet,shrewsburi,oyster,gervais,jelli,langoustin\n",
      "similar resto dishes : 168 : fruit,chees,cake,abov,top,pineappl,cold,leg,lamb,string,bean,potato,salad,egg,poach,beef,tongu,spinach,sce,mader,molson,canadian,ale,le,consomm,doubl,crout,au,pot,graacher,mosel,egg,meyerb,broil,star,bacon,ham,grill,salisburi,steak,bacon,tomato,pineappl,lima,bean,bake,bean,two,rasher,bacon,flat,noodl,tomato,sauc,spring,pullet,half,saut,madra,french,countri,beef,salad,marin,strip,prime,rib,vinaigrett,dress,snow,pea,mushroom,hearti,light,sweetbread,cassolett,melba,appl,jelli,cake,snow,pud,omelet,ham,bacon,fresh,kennebec,salmon,sauc,hollandais,lettuc,tomato,onion,mayonnais,request,camaron,nayarit,saute,small,shrimp,marin,mustard,chile,vinaigrett,fresh,mushroom,en,petit,casserol,colbert,potato,anna,clam,milk,stew,redey,caesar,salad,parmesan,tuil,rühreier,mit,speck,und,brot,im,tonpfännchen,sandwich,pollo,vignarey,gaja,bread,molass,lobster,newburgh,en,casserol,cold,slice,tongu,chicken,salad,tomato,surpris,potato,salad,four,grill,thin,bone,pork,chop,countri,gravi,corn,sweet,potato,spice,peach,brandenburg,frere,bordeaux,pontet,canet,pork,foo,young,selleribotten,ce,suprem,brussel,sprout,butter,baltimor,pud,cream,sauc,lettuc,tomato,sandwich,cole,slaw,pickl,saddl,rock,oyster,raw,shell,littl,neck,clam,hattera,oyster,shell,punch,cleopatr,broil,sesam,beef,roll,consomm,glace,cup,bouillabaiss,chop,suey,choic,linguini,pescator,babi,clam,shrimp,calamari,mussel,long,island,duckl,aspic,de,volail,l,italienn,salmon,trout,sauc,bernais,premier,brand,special,dri,champagn,pollastra,di,bressa,arrosto,egg,fri,unser,menü,für,den,kleinen,appetit,moet,chandon,champagn,white,seal,duckl,la,bigarad,delicatessen,special,corn,beef,hard,boil,egg,lettuc,russian,dress,three,slice,butter,toast,broil,bluefish,butter,sauc,red,bordeaux,wine,château,lascomb,margaux\n",
      "similar resto dishes : 11 : chicken,tortellini,cont,cup,minestron,salad,choic,dress,warm,loaf,french,bread,fresh,ricotta,spread,romano,chees,freshli,grate,ri,de,veau,brais,montgla,crabe,moux,saut,meunier,le,filet,de,boeuf,en,mignonnett,de,poivr,la,mathurini,schweizer,schnitzel,mit,spaghetti,gr,salat,melon,glace,voil,chop,sandwich,cold,slice,breast,chicken,duck,river,oyster,half,shell,pomm,de,terr,saute,brook,trout,meunier,cleopatr,creme,milanais,broil,nicois,chicken,liver,sauté,mushroom,baba,rum,la,mode,essenc,chicken,à,canadian,whiskey,canadian,club,bulgarzoon,scientif,ferment,milk,per,bottl,chop,corn,beef,horseradish,sandwich,potato,cabbag,salad,celeri,heart,broil,squab,chicken,bacon,marenn,selon,arrivag,escalop,veal,marsala,top,sirloin,steak,french,fri,potato,ballotin,veal,ice,cream,fantasia,piec,mont,syphon,c,schultz,chat,margaux,claret,kidney,coffe,salad,de,chicori,kennebec,salmon,tartar,sce,american,ordinair,qt,diver,gebak,broil,honeycomb,tripe,parisienn,macaroni,gratin,american,rye,fine,champagn,brandi,waldorf,rye,whiskey,cannib,steak,garnish,appet,health,salad,varieti,fresh,veget,julienn,chicken,cold,slice,egg,tart,lemon,french,dress,roll,trifl,bardolino,red,bake,tennesse,ham,burgundi,sauc,russian,turnip,julienn,potato,peach,short,cake,cream,roast,fresh,jersey,ham,spring,cabbag,carraway,seed,italienn,salad,ruhreier,oder,spiegelei,mit,schinken,crisfield,lump,crab,meat,pure,sweet,cream,au,gratin,en,casserol,melba,toast,potato,bordur,noisett,spring,lamb,mustard,mint,sauc,new,potato,wilt,babi,green,biscuit,dubouch,brandi,broil,sweetbread,pea,half,mousselin,de,poisson,maison,long,short,beef,tongu,roll,beef,sandwich,byrrh,aperitif,violet,frere,auslandisch,erzeugni,stuck,spiegelei,mit,wurstchen,berci,und,brot,cold,kennebec,salmon,sauc,mayonnais\n",
      "similar resto dishes : 144 : tass,butter,roll,consomm,potag,du,jour,oder,lachstartar,auf,gerostetem,volkornbrot,coqu,et,moul,en,gaspacho,lamb,chop,courbevoi,cream,chees,cake,sour,cream,top,bourgogn,beaujolai,villag,watercress,salad,französisch,erbsen,choic,sweet,trolley,subgum,veget,chow,yuk,soft,clam,bake,shell,ancienn,robert,mondavi,cabernet,sauvignon,tisan,vervein,cliquot,melon,tart,pomm,au,four,ginger,ale,enno,sander,saddl,rock,raw,half,shell,zander,mit,klosschen,bloater,usher,extra,pud,shrapnel,bokma,orig,holl,genev,bread,butter,soup,extra,pan,fri,flounder,butter,sauc,chees,cracker,piec,fresh,fruit,cold,babi,artichok,vinaigrett,epaul,de,veau,roit,half,duckl,bigarrad,scotch,lobster,half,fri,chicken,mole,boneless,breast,chicken,top,special,mole,sauc,delicioso,rice,bean,riz,casimir,oven,roast,fresh,water,pickl,brook,trout,tomato,broth,curri,veal,rice,horizon,fruit,salad,assort,fresh,preserv,fruit,serv,lime,cream,dress,number,one,orang,juic,californina,select,prune,grapefruit,tomato,juic,roll,oat,dri,cereal,littl,pig,sausag,scrambl,egg,roll,toast,muffin,coffe,tea,milk,princess,pear,preserv,chambertin,mumm,brut,franc,calf,head,vinaigrett,boil,potato,beet,salad,ice,cream,sherbet,corn,beef,hash,brown,musigni,margueri,und,taubenbrust,au,der,pfann,live,fresh,colorado,rainbow,trout,au,bleu,saut,meunier,broil,serv,potato,veget,du,jour,nierstein,filet,mignon,broil,beef,tenderloin,serv,toast,mushroom,sauc,mix,green,salad,french,fri,boil,egg,lettuc,tomato,bacon,island,dress,hamburg,steak,onion,boston,bean,ham,broil,fri,egg,capon,noodl,fresh,veget,luncheon,lobster,cutlet\n",
      "similar resto dishes : 197 : salad,de,poivron,vert,cervel,au,beurr,noir,chicken,salad,sandwich,crisp,lettuc,garlic,bread,pesto,parmesan,sauc,durchgestrichen,gelb,erbsensupp,mit,crouton,nudelsupp,rindfl,quart,chartreus,per,glass,oyster,broil,bacon,marcobrunn,udder,frischer,hummer,sauc,mayonnais,broil,ham,fri,sweet,potato,steam,fig,pud,hard,brandi,sauc,larg,broil,new,york,cut,boneless,sirloin,steak,pound,plu,graham,gem,beef,barley,soup,pot,roast,beef,bake,potato,stew,corn,appl,pie,bread,butter,coffe,fanci,wafer,fresh,fruit,cup,mayan,boil,corn,tongu,spinach,boil,potato,fine,champagn,liqueur,brandi,cold,salmon,mayonnais,sauc,burgundi,chabli,rose,caraf,printani,chasseur,zubrovka,czechoslovakia,blanc,mang,au,citron,apolloinari,punch,sherbet,flavor,nellelrod,pud,schweinelendchen,auf,paprikagemüs,schinkenstreifen,und,röstkartoffeln,old,medford,rum,codfish,fri,tomato,sauc,moka,cream,cake,rt,wor,bro,wm,steven,romain,salad,french,dress,mayonnais,omelett,tomato,one,masque,sauc,fri,broil,shad,massepain,jefferson,fromag,creme,charl,heidsieck,mattituck,fresh,guayma,shrimp,cocktail,consomm,hot,cold,mix,relish,bowl,oyster,stew,barbecu,bread,saarland,filettopf,nach,heus,laubenheim,carl,acker,macaroni,la,montgela,half,avocado,russian,dress,season,import,chabli,cherri,tomato,salad,banana,whole,cream,la,flute,heidsieck,dri,monopol,brut,grand,cru,de,cramant,blanc,de,blanc,brut,soup,curri,rice,fri,dumpl,order,fresh,string,bean,menager,asparagu,drawn,butter,broil,filet,haddock,lemon,butter,veget,potato,shred,wheat,biscuit,today,casserol,irish,lamb,stew,carrot,pearl,white,onion,turnip,sprinkl,pea,fluffi,dumpl,pecan,nut,tart,le,grenedin,de,boeuf,grand,veneur,potato,saute,stew,roast,oyster,shell,half,nuttola,jumbo,soft,shell,crab,tartar,sauc,slice,tomato,pimento,chees,fri,perch,salt,pork,lobster,salad\n",
      "similar resto dishes : 98 : gigot,de,lapin,roti,frai,fleetwood,rye,shred,chicken,salad,eisbein,mit,frankfurt,wurst,auf,sauerkraut,pure,carrot,tapioca,creci,second,joint,turkey,potato,salad,lettuc,tomato,slice,beef,broccoli,brown,sauc,vealsteak,sweetbread,au,gratin,vanilla,cornstarch,custard,sauc,seezungenfilet,gebacken,sc,remoulad,kleiner,salatplatt,chicken,la,piemontais,shred,wheat,one,cream,thickli,cut,swordfish,steak,saut,bean,ham,coup,danemark,royalti,amontillado,sherri,marrow,bone,eclair,chocol,sigala,rabaud,salmon,skin,salad,smoke,bacon,pilsner,french,fri,louisiana,jumbo,shrimp,cole,slaw,includ,cup,soup,long,branch,potato,special,salad,hot,bread,farm,fresh,butter,beverag,roast,prime,rib,colorado,beef,natur,gravi,crisp,romain,salad,bake,idaho,potato,sour,cream,chive,tenderloin,steak,aux,cepe,bordelais,tartelett,frambois,kalt,rindszung,thon,bearnais,salad,carr,de,porc,appl,sauc,smoke,anchovi,filet,toast,sole,meunier,ou,sole,grile,bacon,cheeseburg,serv,homemad,fri,lobster,broil,live,highbal,rye,california,fruit,suprem,cervelat,sausag,import,salad,lettuc,cucumb,saut,lamb,kidney,fresh,mushroom,sherri,wine,littl,neck,clam,au,gratin,cream,split,pea,soup,cold,slice,tongu,bass,raye,walewska,cold,mutton,southern,corn,muffin,roast,capon,oyster,dress,seafood,combin,la,newburg,shrimp,scallop,lobster,asparagu,rissol,potato,broil,lobster,chili,sauc,half,red,tangerin,ice,galantin,capon,la,gele,celeri,la,grecqu,prawn,suprem,cocktail,sheep,tongu,gherkin,sauc,eaton,glorifi,golden,fri,chicken,includ,half,disjoint,color,chicken,old,fashion,chicken,gravi,whip,potato,hot,biscuit,appl,butter,potato,stew,omelett,jelli,sterl,point,napfkuchen,mit,rum,roastbeef,la,nivernais,havana,cigar,glasstub,irish,stew,dublin,style,stew,lobster,whole,ansbach,bratwuerst,sauer,mit,brot,saut,chop,herb,frisch,anana,mit,kirschwass,concord,grape,grave,bordeaux,white,wine,chateaubriand,mit,sc,bearnais,pomm,frite,salatplatt,fur,per,chat,roast,lamb,sandwich,gravi,french,fri,potato,relish,le,moka,sweetbread,glace,au,epinard,au,ju,filet,de,sole,au,sautern,mandarinen,kompott,banana,fritter,glace,au,rhum,kalbslendchen,edelpilz,butterrei,und,salat,sherbet,delic\n",
      "[array([[0.29662968]]), array([[0.25621462]]), array([[0.25442602]]), array([[0.25320377]]), array([[0.25268336]])]\n"
     ]
    }
   ],
   "source": [
    "test_resto(56,5)"
   ]
  },
  {
   "cell_type": "code",
   "execution_count": null,
   "metadata": {},
   "outputs": [],
   "source": []
  }
 ]
}