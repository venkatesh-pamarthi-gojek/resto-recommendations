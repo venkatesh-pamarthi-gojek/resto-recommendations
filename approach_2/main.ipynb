{
 "metadata": {
  "language_info": {
   "codemirror_mode": {
    "name": "ipython",
    "version": 3
   },
   "file_extension": ".py",
   "mimetype": "text/x-python",
   "name": "python",
   "nbconvert_exporter": "python",
   "pygments_lexer": "ipython3",
   "version": "3.8.3-final"
  },
  "orig_nbformat": 2,
  "kernelspec": {
   "name": "python3",
   "display_name": "Python 3",
   "language": "python"
  }
 },
 "nbformat": 4,
 "nbformat_minor": 2,
 "cells": [
  {
   "cell_type": "code",
   "execution_count": 3,
   "metadata": {},
   "outputs": [],
   "source": [
    "import pandas as pd\n",
    "import numpy as np\n",
    "import nltk"
   ]
  },
  {
   "cell_type": "code",
   "execution_count": 4,
   "metadata": {},
   "outputs": [],
   "source": [
    "resto_df = pd.read_csv(\"resto_df.csv\")"
   ]
  },
  {
   "cell_type": "code",
   "execution_count": 5,
   "metadata": {},
   "outputs": [
    {
     "output_type": "execute_result",
     "data": {
      "text/plain": [
       "   Unnamed: 0  resto_id                                             dishes\n",
       "0           0         0  Mirabelle Leon Beyer Masthuhnbrust Singapur in...\n",
       "1           1         1  Piel Bro's. Lager Scrambled Eggs and Onions FL...\n",
       "2           2         2  3 fried eggs and ham or bacon, bread With Pota...\n",
       "3           3         3  Braised free range chicken fresh polenta Beef ...\n",
       "4           4         4  Spring duckling Cream or Country Gravy Oyster ..."
      ],
      "text/html": "<div>\n<style scoped>\n    .dataframe tbody tr th:only-of-type {\n        vertical-align: middle;\n    }\n\n    .dataframe tbody tr th {\n        vertical-align: top;\n    }\n\n    .dataframe thead th {\n        text-align: right;\n    }\n</style>\n<table border=\"1\" class=\"dataframe\">\n  <thead>\n    <tr style=\"text-align: right;\">\n      <th></th>\n      <th>Unnamed: 0</th>\n      <th>resto_id</th>\n      <th>dishes</th>\n    </tr>\n  </thead>\n  <tbody>\n    <tr>\n      <th>0</th>\n      <td>0</td>\n      <td>0</td>\n      <td>Mirabelle Leon Beyer Masthuhnbrust Singapur in...</td>\n    </tr>\n    <tr>\n      <th>1</th>\n      <td>1</td>\n      <td>1</td>\n      <td>Piel Bro's. Lager Scrambled Eggs and Onions FL...</td>\n    </tr>\n    <tr>\n      <th>2</th>\n      <td>2</td>\n      <td>2</td>\n      <td>3 fried eggs and ham or bacon, bread With Pota...</td>\n    </tr>\n    <tr>\n      <th>3</th>\n      <td>3</td>\n      <td>3</td>\n      <td>Braised free range chicken fresh polenta Beef ...</td>\n    </tr>\n    <tr>\n      <th>4</th>\n      <td>4</td>\n      <td>4</td>\n      <td>Spring duckling Cream or Country Gravy Oyster ...</td>\n    </tr>\n  </tbody>\n</table>\n</div>"
     },
     "metadata": {},
     "execution_count": 5
    }
   ],
   "source": [
    "resto_df.head()"
   ]
  },
  {
   "cell_type": "code",
   "execution_count": 6,
   "metadata": {},
   "outputs": [],
   "source": [
    "from gensim import corpora, models, similarities\n"
   ]
  },
  {
   "cell_type": "code",
   "execution_count": 7,
   "metadata": {},
   "outputs": [],
   "source": [
    "dishes = resto_df[\"dishes\"].tolist()"
   ]
  },
  {
   "cell_type": "code",
   "execution_count": 8,
   "metadata": {},
   "outputs": [
    {
     "output_type": "execute_result",
     "data": {
      "text/plain": [
       " a l\\'Anglaise Gekochter Steinbutt, Kaviar-Sauce Chateau Lagrange, J. Calvet MIXED DRINKS. Steak and Kidney Pie of Old England CAFFE PARMA Supreme of Guinea Hen a la Paul with Seedless Grapes Chartreuse, Benedictine, Curacao Oysters, On the shell Extra Pale Lemp. St. Louis Brew Bottling Kalak Mineral Water Plymouth Rock Gelatine with Whipped Cream Tomato omelet, three eggs Hot Turkey Sandwich, French Fried Potatoes, Whole Cranberry Sauce, Giblet Gravy Wyman Champagne Ginger Ale Burgundy.Clos de Vougeot, 2.00 Olive. 1906 Cueser Pichler, Original Grape Fruit Marmalade Braised Whole Lambs\\' Tongues, Vinaigrette served in an Oil and Vinegar Dressing with Chopped Hard Boiled Egg and Pickles',\n",
       " 'Pizza CONTADINA, mit Thunfisch und Zwiebeln SEAGRAM\\'S \"V.O.\" WHISKEY, Seagram Distillers Corp. JUMBO MUSHROOMS BAKED AND STUFFED WITH SHRIMP AND CRABMEAT, CHEDDAR CHEESE SAUCE WITH MOUSSELINE AU GRATIN POTATOES Fleischspiess nach Art des Chefs, Risi Bisi, Salata Kostlicher Salat von fr. Pfirsichen mit Cointreau am Tisch zuereitet Extra Cut Richelieu Cheese Saddle of Mutton & Jelly ROAST YOUNG TURKEY, Homestyle Dressing, Cranberry Sauce, Giblet Gravy, Whipped Potatoes, Raspberry Argentine Salad Mold Served with Clark\\'s Fresh-Baked Roll or Muffin Ribs of Prime Beef & Baked Potatoes Roasted Wild Turkeys, with Cranberry Sauce Liebfraumilch, Blue Nun Label, Vintage Wodka russe, Krepkaya 5-dl-Flasche Barbecued Pork Chops with Cole Slaw Amer Picon with Grenadine Findon Haddock in Cream Vernison Consomme, Marrow Quenelles Sweetbread, Maryland Grilled prawns with ham and pilaw rice Marmalade. Deviled turkey\\'s leg Graham Bread with Glass of Milk L. Jaunay, Dry Canards Redhead Aiguillettes of Striped Bass, Normande Own Bottling Claret, 1/2 pt. Decanter Boneless Sardines, per box The Mushrooms with Snails Tender vineyard snails cooked in mushroom caps with garlic and walnut butter Crab Claws with Sweet and Sour Cream Little Necks Clams on Ice  Fried Oysters in crumbs, 1 doz.  Capon, Poincare Faisan a la Broche Flanque de Cailles \"Presentation Careme\", Legumes des Quatres Saisons, Barquettes de Morilless Michelob Half Maraschino Grapefruit Farcies Olives Roast Vermont Hen Turkey, Giblet Gravy Consomme a L\\'Ancienne Dorade Dentsch Weinbrand Gelinot on Canape Country Sausage, Fried Egg wih Griddle Cakes Sweetbread Gourmet, en Casserolette Baked Red and Green Peppers, Caroline Birkhühner Cocktail, Millionaire Brodchen, Schnecken, Kringel Half Chicken steamed to perfection Chateau Lafite, 1848 Saddle Rocks Pan roast Kessel Gullasch Eier Robert Malted Milk (Pot) Hammelrucken, garnirt Mince Tartlettes lafayette pudding J. E. Dulary & Co. V. S. O. P. Brandy, Bottle Cold Asparagus, Mayonnaise Hot House Chicken en Casseroleau Beurre Dates or Figs Celery Naturel ORANGE PEKOE TEA Goldbarschfilet geb m Sc Remoulade und Kartoffelsalat Maltheser Kreuz Spirituosen Jelly Fish',\n",
       " \"NEAU TOD Sauteed Beef with Pepper and Galic BOLLINGER EXTRA DRY CHAMPAGNE Corn Fritters, Spaghetti, Cheese, New Cauliflower, Sweet Potato HOCK.Liebfrauenmilch, pints 1 50 candied sweets Assorted Bakery Basket Viande froide assortie a la Gelee Scungili a la fra Diavolo menus de parrilla Stewe[d] Plums Caviar Frais du Volga Shrimp [cocktail] Baked apples Chicken Soup, two slices of bread and one piece of butter  Schaschlik Kaukasienne sliced turkey Poulet, Printanier Plain lobster, Mayonnaise dressing, half Potatoes: A l'O'Brien Brombeeren Walterspiel Bean Curd Sauteed, Szechuan Sauce Eggs a'la Remoulade Karri de Huitres aux Riz with Bombay Duck Tricolor Slice Ice Cream Stuffed Loin of Veal, Portugaise Claret Wine Jelly, with Whipped Cream Pontet Canet, Chabannes & Co. One Egg (POACHED) Boiled Beef, Boiled Potato, Vegetable PETRALE DORE With a light butter and  lemon sauce Hard Sauce Petits pois a la Francaise Imported Burgundy, Macon Chateau Latour, 1976, Pauillac Le mignon de boeuf, flambé à l'Armagnac Small Lobster Salad       Large Agneau de lait persille LES DARNES DE FLETAN MEUNIERE, les pommes fondantes Small Steak Combination Prune and Apricot Pie MOUNTAIN FOLLE BLANCHE, 1939 Geraucherte Gansebrust mit apfelsalat Tomaten Juice Soup, Cream of Brussels Sprouts Beechnut Bacon, Broiled CHEF'S SPECIAL DISH TO-DAY Chicken Patties, with Peas CORNED BRISKET AND CABBAGE Pomme de terre ala pailles Curacao Cordial Grape Juice or Loganberry Frog's Legs, Sauté au Vin Blanc Oysters, fried or broiled HUITRES:  Marennes: rye bread, per order Feuille D'Anchois, Suedoise Cream Mongole aux Croutons diabolo exquise, jar\",\n",
       " 'Broiled Smelts St. Germain Tuna Fish Salad with Sliced Tomatoes and Mayonnaise onions, fried Deviled turkey\\'s leg Gravlaks with Dill Sauce The great Salmon of the north cured in the old Viking manner Hygeia Lithia Water Breaded Veal Cutlet with Tomato Sauce, String Beans and Mashed Potatoes Rognons Saute aux Champignons Milk Shake, large Brook Trout, with Cream of Anchovies, Del Monte style Broiled fresh salmon steak, maitre d\\'hotel and potatoes SATURDAY SPECIAL - Chicken pot-pie Terrine of Poulard Saintongeaise Le loup roti a la creme de thym et courgettes frites Assorted Cold Cuts with Potato and Green Bean Salad Ruedesheimer Rhine Wine, Anheuser & Ferhs Tea, Per Pot  Selection de hors d\\'oeuvre RPR Mandelforelle mit Whisky flambiert, Fischkartoffeln, Salat Schweppes Quinine Water Gran fritto alla fiorentina Kosher Tongue Sandwich WHOLE EARTH - Avocado slices, sliced tomatoes, alfalfa sprouts, leaf lettuce, served between slices of swiss cheese. Served with yogurt cucumber dressing (no bread). Parducci Chenin Blanc Kotopoulo fito  Cold Westphalia Ham 1907 Uerzinger Wuerzgarten, Original, Crescenz Bischofl. Priester Seminar Stripped Bass, Chambord Potato Polonaise Sweet Potatoes, in place of other potatoes Les Artichauts, Sauce Hollandaise Katenrauchwurst Bach-Saibling \"blau\" im Wurzelsud, mit Petersilienkartoffeln und brauner Butter Oyster or clam stew in pail Chicken, fried, Vienna style Home Made Pickled Herring Antipasti assortiti...s.q. Steamed suet pudding Patates Frites Oyster Patties a la Reine, French Fried Potatoes Consomme, Gombo Roast Leg of Spring Lamb green peas Fried Indian Mush, Maple Syrup Omelette with Sea Food Joinville Sirloin with Pickles Beefsteak with olives Kingfish Balmoral Leg of mutton with string beans Potatoes Luchesse CHOPPED PRIME SIRLOIN STEAK, Crisp French Fried Onion Rings, Sauce Bercy Imported Bismarck Herring, Boiled Potatoes Lammkeule gefullt auf Tomaten-Basilikumjus, glacierte Echalotten, Speckbohnchen, Kartoffelgratin mit Kase Souffle Mirabeau Forelle blau mit Beilage Apricot Sour Herring in Dill Sauce Broiled long island flounder a la ratner, cooked with tomato and garlic served with two vegetables and chef salad bowl or cole slaw Extra large crab flakes, creole Today\\'s soup POISSON A LA MAYONNAISE Blackberry Wine Saumon crû mariné maison Turkish Salad A New York Bagel and Lox Platter Prawn Cocktail Pate of Duck with Ham and Jelly Native Catawba Hock Fried Stuffed Shrimp Two Veg.',\n",
       " 'Rowntree\\'s chocolate, pot 2# LOBSTER Bel Paese Fromaggi...s.q. Baked apple dumpling hard and brandy sauce Bacon, Garniture Pigeonneaux grilles sur toast Kalifornische Pfirsiche Milk Biscuits Coffee with cream Ruinart Pere & Fils Brut Pompano à la marinière Lotte a l\\'americaine GRILLED FRESH GROUND HAMBURGER Served with French Fried Potatoes Tomates braisees, Cepes a la bord. Jersey Corn-fed Pork Chops, two Smor, brod, ost & sill Eggs sur plat Grapefruit (one-half) American bread Le 1/4 poulet froid mayonnaise garni salade Cold lobster Ravigote Prinzessbohnen, Erbsen oder Karotten William\\'s Birne von Schladerer Ox tail soup, Old English style, barley Filets of Herrings Bellvue Eisbecher mit Fruechten und Likoer Erdbeermarmalade Headcheese, Garni German pancake with compot COLD - Ham, Potato Salad Champagne Herb Cocktail von frischen Krebsschwanzen Eiersalat \"Pompadour\" m. Toast u. Butter Cold Cup Consumme Chocolate Cream Cup Cakes Potted breast of beef with egg barley 72 Chablis Relishes Salted almonds baked lamb pies Chicken livers on skewer, Napolitaine Gourmet\\'s Delight OUR FINEST FILET MIGNON or SIRLOIN STEAK (At least 10 ounces) You may order any food we have in the house you\\'d like to go with the above dinner. Lobster, Shrimp or Fresh Fruit Cocktail, Du Jour Soup, Relish Tray, Mushrooms or French Fri Grilled Pork Chops, Candied Sweet Potatoes, Fresh Spinach Pecan Pie, ex. charge Pizza del giorno; pizza of the day PANNEQUET SOUFFLE FLAMBE AU GRAND MARNIER  Clams on Half Shell Stewed potatoes with egg and other articles above Boiled Mutton, plain, with caper sauce CIVET OF SPRING LAMB BOURGIGNONNE, HOME MADE NOODLES Anchovie on Toast Piel\\'s Real German Beer MILCHLAMMKEULE in Zitronen-Thymianjus mediterrane Gemuse, Olivette-Kartoffeln, 2 Pers. p.P. CAESAR\\'S SALAD PAN FRIED PORK CHOPS, Whipped Potatoes, Mashed Yellow Turnip, Vienna Rolls, Cup of Coffee Broiled Spanish Mackerel, Piquaint Sauce Brynta kantareller african ice',\n",
       " 'Fried Breaded Oysters, French Fried Potatoes, Mexican Cole Slaw Ruhreier m.Kalbahirn u.Bratkart Rinderkraftbruhe mit Ei Roast Half Spring Chicken, Apple Dressing Little Thin Hot Cakes With melted butter, Hot Maple or Boysenberry Syrup French Sardines and Mackrel in Oil Salade de canard aux foies tiedes Marie-Louise Cake Insalata Assortita Sherry (Ind.) 2 Stück Kälberfüsse gebraten mit Mayonnaisesalat Tenderloin steak, plain (for one)  Usher\\'s Liqueur (12 Years) Scotch Whiskey Ham, broiled with eggs (2) Imported Sardines and Potato Salad Formaggio, Griviera \"NUTTY\" PECAN PIE - Smothered w/a mound of whipped cream. Roast Stuff. Chicken CALF LIVER - BROILED OR FRIED - Baby Beef Liver served with strips of Premium Bacon, or Covered with Saute Onion Rings, French Fries, Coffee or Tea Whitefish Fume Boneless Philadelphia Capon Perigourdine PAMPLEMOUSSES, BAR-LE-DUC Clear Oxtail, Soyer Port, Queen\\'s Fort Shelby Ice Cream Pie Mixed Fruit in Syrup Filet of sole, Argenteuil Lobster A la Newburg in Chafing Dish 1/2 fried spr\\'g chicken Top sirloin steak, from hip with french fried onions St. Louis, Anheuser Busch, on draught Lettuce, Egg and Olive Salad Virginina Ham Broiled filet Mignon of Beef \"a la Provencale\", Sauce Bercy, Sauteed Spring Vegetables, Liberian Perlu Rice Nathaniel Johnston & Fils Graves 1953 Kirschnektar 0.3 l Bécassines au Cresson Homer milk in individual bottles Peach-Apricot-Anisette Hot Chopped Steak Sandwich (Cole Slaw and Relish) Cream of Guinea Hean Soup CHILLED GARDEN TOMATO JUICE Fried Veal Cutlets, breaded, Tomato Sauce Champinjonomelette Breast of milk-fed veal glace, red cabbage, mashed potatoes Beefsteak Russe a la tartare Cold Shrimp Scallops with grated cheese, cream sauce G. H. Mumm\\'s Cordial Rouge Pate d\\'Amien Ice Cream Plombiere Gai Chow Mein - Fried Noodle with Chicken and Pork Rote Beeten- & Kartoffelsalat Thick Green Sea Turtle Soup Plateau of Imported and Wisconsin Cheeses, Toasted Crackers, English Wafers Omelette Souffle au Marasquin Bluepoint Oysters on Half Shell with Cocktail Sauce MULLIGATAWNEY SOUP Brochette of Beef Tenderloin Les Fromages au Choix 3/6 Haut Sauternes, Calvet & Co., 1878 Home made bowl custard TWO HOMEMADE MANICOTTI With Sausage, Salad Bowl Rhine, Anheuser & Fehrs, Creuznach, Liebfraumilch Auslese, 1893 Wiener Schnitzel mit Röstkartoffeln Puree, Bretonne (soup) Kartoffeln',\n",
       " 'Amands Omelette au rum Marinaden: Franzosische Hunerpastetli Fricassee Scallops on Toast Sweet Potatoes en Surprise Ruhrei mit Pfifferlingen Fleischmann\\'s 90 Proof ateas of excellent quality. 5c. Extra Strong, 10c.- Blended and Brewed to your liking. Oblige us by ordering kind you have been accustomed to at home. Select from the following high grade blends: English Breakfast (genuine), Orange Pekoe Golden Tip Ceylon, Formosa Oolong (first pickings), Calf\\'s Brain Saute, Brown Caper Butter - Mashed Potatoes Kartoffeln saute 1 Dtz. Weinbergschnecken in Krauterbutter Chocolate meringue pie Ayala, Ex Dry 81er Durkheimer Feuerberg Portugieser, Q.b.A. mild, mollig Vor dem Essen Salad Nicoise, tuna fish, green beans, onions, tomatoes, egg, olives and anchovies served with a French dressing Devilled Crab, Tartar Sauce, Potatoes, Salad  Soup To Order Royal Canadian Pargaon La Rosa de Santiago, box of 25 Pintadeau aux lentilles (2 ou 3 pcs) Rumpsteak vom Grill m. Krauterbutter und pommes frites Morue, Bercy Alitas De Pollo \"Caliente\" --A hefty portion of chicken wings marinated in a red hot \"caliente\" sauce. This is a good appetizer for one big appetite -- two regular appetites or three who eat like birds. Gebratene Kartoffeln Home Pickled Oysters with lettuce  Nicoise Jelly Ham and Tongue Sandwich, with Lettuce and Sliced Tomato Cumberland ham au Jeu Scampi Provencale - Riz Pilaw Café liégeois GREEN RIVER Homard frais, Sauce Mayonnaise, prix selon grandeur Providence River Oysters on Shell, per dozen Calf\\'s head, vinaigrette, beet salad Nicoise Broth Salsifis Mimosa Moet & Chandon, Brut Imperial Curry d\\'Agneau MIGNON of TENDER VEAL SAUTE PRINCESS 1/2 Hummer med Mayonnaise, Brod og Smor Muffins, Wheat Cakes. Virginia ham and eggs Sultana Sticks Codfish Tongues with Brown Butter Caviar avec toast et beurre Stangenspargel mit Fladle Rhone Red - Chateauneuf du Pape (half bottle) French Ice Cream in Fancy Forms Beaune 69 Cold Cream Vichyssoise (cup) Malt-Poter, Pdl. Endivien Salad Sandwich de Homard Milk Punch, 1820 Brandy, glass Anchovy with capers',\n",
       " 'Salade de Poivrons Verts Cervelles au beurre noire Chicken Salad Sandwich & Crisp Lettuce Garlic Bread with Pesto and Parmesan Sauce Durchgestrichene gelbe Erbsensuppe mit Croutons Nudelsuppe m Rindfl Quart Chartreuse, per glass Oysters. Broil with Bacon Marcobrunner, 1884 Udder Frischer Hummer, Sauce Mayonnaise Broiled Beech-Nut ham, fried sweet potatoes Steamed fig pudding, hard and brandy sauce Large Broiled New York Cut Boneless Sirloin Steak, 1 Pound Plus Graham Gems Beef & Barley Soup, Pot Roast of Beef, Baked Potatoes, Stewed Corn, Apple Pie, Bread, Butter & Coffee Fancy Wafers Fresh Fruit Cup, Mayan Boiled corned tongue and spinach, boiled potatoes Fine Champagne Liqueur Brandy Cold salmon mayonnaise sauce Burgundy, Chablis, or Rose by the carafe Printanier chasseur Zubrovka (Czechoslovakia) 80 Blanc Mange au Citron Apolloinaris Punch or Sherbet, all flavors Nellelrode Pudding \"Zigeuner-Topf\" (3 Schweinelendchen auf Paprikagemüse, Schinkenstreifen und Röstkartoffeln) Old Medford Rum, \"1870\" Codfish fried, tomato sauce Moka Cream Cake RT. WOR. BRO. WM. E. STEVENS, Romaine Salad with French Dressing or Mayonnaise Omelette with Tomatoes (for one) Masquee Sauce Fried or broiled shad Massepain, Jefferson Fromage creme Charles Heidsieck 1959/1961 Mattitucks Fresh Guaymas Shrimp Cocktail CONSOMME, HOT OR COLD Mixed Relish Bowl oysters,stewed Barbecue Bread  Saarland - Filettopf nach \"Heusing\" Laubenheimer, Carl Acker  Macaroni  a la Montgelas Half Avocado, Russian Dressing (In Season) Imported Chablis Cherry Tomato salad Bananas whole with cream LA FLUTE HEIDSIECK DRY MONOPOLE BRUT Grand Cru de Cramant (Blanc de Blancs), brut. Bahar-Milliktani soup (curry and rice) Fried Dumplings (Order of 8) Fresh String Beans Menagere Asparagus Drawn Butter Broiled Filet of Haddock, Lemon Butter, Vegetable, Potato SHREDDED WHEAT BISCUIT TODAY\\'S HI-LITE: A Casserole of Irish Lamb Stew with Carrots, Pearl White Onions, Turnips, Sprinkle of Peas and Fluffy Dumpling Pecan Nut Tart Le Grenedin de Boeuf Grand Veneur Potatoes, sautees or stewed Roast Oysters, in shell, half Nuttola (2) Jumbo Soft Shell Crabs with Tartar Sauce and Sliced Tomatoes Pimento Cheese Fried Perch, with Salt Pork Lobster  Salad',\n",
       " 'RIS DE VEAU AUX CHAMPIGNONS, BORDELAISE Bombe Reine Victoria EGGS en Cocotte, Diplomate Breast of young duckling in Port wine New string beans, Lyonnaise Rhine Wine, Binger Sandwich de Jambon Carl Schulz SELTZER Iced Pudding Champagne: Moët et Chandon White Seal Pickled Lamb\\'s Tongiue Sandwich Assorted fried meats and vegetables florentine style Brookfield Sausage and Eggs Spidstegt and, rodkal, aeblemos m. peberrod og korender, bl. salat Private Stock New York State Rare Aged Cheddar Cheese Original Ungarisches Saftgoulasch, Brot Klare Indischsuppe Chicory Salad, French Dressing Turban of Sola a la Normande Biscuit tortoni little neck clams, cocktail Kirsh Zazrek Cocktail Real Italian Spaghetti, Braised Chicken Imp. Coburger Beer Broiled Halibut Foyot Roast Vermont Turkey, Dressing, Cranberry Sauce Deutz, Brut Rose Fine herbs on salad Orange; Whole, Sliced \"DALY\" BEETS Saute of Beef au Paprika, Spaetzle Venitienne Roumanian Tenderloin Pokelschweinsrippchen, Yorkshire Sauce Scampi geb. Sc. Valentene Graacher Half Schoppen Plain CHICKEN MEXICAINE, RICE AND LIMA BEANS Haricots Frais Paysanne Pol Roger, Brut Special, 1893 AUTHENTIC LEMON CHICKEN Sonoma Zinfandel (Schoonmaker) Steamed finnan haddie, Caledonia Geback Seezunge Crab Meat a l\\'Astor Potatoes, Creamed Glace fantaisie Salad, Doucette Flat Iron Special Ice Cream Swiss Cheese with Saltine Crackers Consommé, Oriental Potatoes -- French Fried Corn Cakes, Maple Syrup SAUTERNES, medium dry glass Cold Roast Prime Ribs of Beef, Fresh Vegetable Salad Chateau l\\'Angelus 1973 Farina Oyster Crackers Broiled Mackerel, Lemon Butter Open Sirloin Steak Sandwich Strained Honey, Ind. animal cookies Fish Timbales Klare Schildkrötensuppe \"Lacroix\" mit altem Sherry Le dos du colinot de petits bateaux frotte de moutarde fine cuit sous le grill avec quelques feuilles aromatiques du jardin Roast Duckling ( 30min.) Green ravioli with cream sauce Ham & Swiss Served hot, on a poppy seed hard roll with tomato and lettuce open faced with french fries Cold Eggs Laguipiere Rockaway\\'s Oysters, Half Shell Shrimp Chow Mein  Stuffed Derma (Kishke) Zwiebelsuppe, Rumpsteak - Bratkartoffeln, Dessert Creme Duchesse Pan Broiled Sea Bass, Parsley Potato, Carrots \" cotelettes',\n",
       " 'Ockfener Bockstein, 1911 C. Gebert, Fuder No. 13 Cinzano dry mit Kirschwasser 1980 Chateau Reynon Bordeaux Carr\\'s Biscuit Cups Whole Sea Bass, Steamed with Spring Onions and Gingers, per lb. Fried Ham and Egg Sandwich with Assorted Relish Salmon fresco, Frito o a la Parrilla Schweinskeule gebraten, Barbecue-Tunke, Rotkohl Essence of Leeks Soup Heringfilet - Nach Art des Hauses mariniert, mit Gewurzgurken, Zwiebeln und Sauerrahm serviert. Dill-Kartoffeln als Beilage Emerald Mussels Steamed Whole Broiled or Fried Spring Chicken PUDDING PRINCESSE, SAUCE MADERE Galantine of Capon, Florida Salad Extra Dry, Red Cap. Little Neck Clams with Catsup Buzzard Bay, half shell oysters Chateau Gazin 1973 Consomme Royal, Tureen Scholle gebk m Majonaise & Salat Trommers Beer Cold Maine Lobster (Half) with Caper Mayonnaise, Potato Salad, Egg and Tomato Wedges, Celery Heart  Rosbif aux Cornichons Heringssalat mit Ei, garniert Baked bluefish a la Creole en bordure Baked Stuffed Tomatoes, Vanderbilt Fllet of Sole Fried, Sauce Tartare Cold beef a la mode in jelly, sliced tomato, dill pickles Consommé Impérial Eier Duval Fried filet of sole au gratin Duc de Montebello Brut, \\'98 Ostarettir meo kexi, rugbrauoi,smjori 0.fl. Beefsteak Florentin...s.g. Veloutine of cucumbers THURSDAY SPECIAL - Sugar-cured ham Boiled Ox-tongue Haig & Haig 5 stars  Parisian Luncheon  Triscuit with Milk Matjesfilet \"Hausfrauen Art\", Brot SOUPS SERVED WITHOUT MEAT ORDER Hors d\\'œuvre à la Parisienne Hot Cheese Pastries Sauterne Schroeder de Constans 1899 Cold Pate of goose-liver Gateau du Chef Hammelfleischsuppe mit Perlgraupen Patisserie Viennoise Queen Sherry, 1870 Fried Oyster CrabsNewburg French Sardines Cold Pedro Domecq Celebration Low Calorie Salad Dressings: French Lady  Potatoes Rossette \"Pluto\" Water Grilled Ham Steak, Hawaiian Cherry Jubilee Rice Pudding a la Mode Cream of HACKENSACK Corn, MEADOW Style Piccata- lemon and butter sauce Broiled salmon steak, St. Germain Formaggi misti Dewar Scotch V. O. Canadian Delaware shad saute, Meuniere Speck mit Ei Oyster paddies Whisky, Crabbie C. H. Evans\\' India Pale Ale']"
      ]
     },
     "metadata": {},
     "execution_count": 8
    }
   ],
   "source": []
  },
  {
   "cell_type": "code",
   "execution_count": 9,
   "metadata": {},
   "outputs": [
    {
     "output_type": "error",
     "ename": "ModuleNotFoundError",
     "evalue": "No module named 'jieba'",
     "traceback": [
      "\u001b[0;31m---------------------------------------------------------------------------\u001b[0m",
      "\u001b[0;31mModuleNotFoundError\u001b[0m                       Traceback (most recent call last)",
      "\u001b[0;32m<ipython-input-9-71874e60dc26>\u001b[0m in \u001b[0;36m<module>\u001b[0;34m\u001b[0m\n\u001b[0;32m----> 1\u001b[0;31m \u001b[0;32mimport\u001b[0m \u001b[0mjieba\u001b[0m\u001b[0;34m\u001b[0m\u001b[0;34m\u001b[0m\u001b[0m\n\u001b[0m",
      "\u001b[0;31mModuleNotFoundError\u001b[0m: No module named 'jieba'"
     ]
    }
   ],
   "source": [
    "import jieba"
   ]
  },
  {
   "cell_type": "code",
   "execution_count": 10,
   "metadata": {},
   "outputs": [],
   "source": [
    "texts = [nltk.word_tokenize(dish) for dish in dishes]"
   ]
  },
  {
   "cell_type": "code",
   "execution_count": 12,
   "metadata": {},
   "outputs": [],
   "source": [
    "dictionary = corpora.Dictionary(texts)"
   ]
  },
  {
   "cell_type": "code",
   "execution_count": 13,
   "metadata": {},
   "outputs": [],
   "source": [
    "feature_cnt = len(dictionary.token2id)"
   ]
  },
  {
   "cell_type": "code",
   "execution_count": 14,
   "metadata": {},
   "outputs": [],
   "source": [
    "corpus = [dictionary.doc2bow(dish) for dish in texts]"
   ]
  },
  {
   "cell_type": "code",
   "execution_count": 15,
   "metadata": {},
   "outputs": [],
   "source": [
    "tfidf = models.TfidfModel(corpus)"
   ]
  },
  {
   "cell_type": "code",
   "execution_count": 17,
   "metadata": {},
   "outputs": [],
   "source": [
    "index = similarities.SparseMatrixSimilarity(tfidf[corpus], num_features= feature_cnt)"
   ]
  },
  {
   "cell_type": "code",
   "execution_count": 28,
   "metadata": {},
   "outputs": [
    {
     "output_type": "execute_result",
     "data": {
      "text/plain": [
       "'Homemade Headcheese with potato salad Homard de la Cote du Maine Ruhrei mit Schniken und Salzkartoffeln Broiled Pompano, Cucumber Salad Bordeaux Red, Potet Canet, B & G Sauterne, Yquem type,  Chas. Stern & Sons Boston Beans, Individual Pot, with Potatoes, Boston Brown Bread Beefsteak mit pommes frites Chat. Meursault \\'81 Above orders include potatoes, hot biscuits and apple butter Chicken Halibut, au vin blanc Cape Cods (4) Gervais Cheese with Individual Bar-le-Duc 1934 Enkircher Steffensberg mosel, Walter S. Siegel Potato soup aux croutons Colossal asparagus, vinaigrette EPINARDS AU BEURRE  NEW ASPARAGUS, HOLLANDAISE or BUTTER SAUCE 2 00 Blumenkohlsuppe champignons frais 1976 Santenay \"Maladiere\" Domaine Prieur Sirloin steak per per. Sherry:  Romano, Very Old Gordon Glace Esquimeau Arroz a la Mexicana (Mexican Rice) 1 TasseFilterkaffee Chicken Liver and Spaghetti Caruso Chateau Laujac, Berry Bros, 1906 Lowenbrau Imported Bavarian Beer, bottle Crepes du Maitre Vino de Pasto, pale and delicate Schlitz Pale  Tongue Branched spinach Tartelettes Chateaux No. 2 Dinner:  Fried Filet of Sole Tartar Sauce, includes Soup or Juice, Dessert & Beverage Teachers\\' Scotch Whiskey Cold Gombo MIXED RELISHES Orangen Fruchtsafte Claret.Table Claret, $1.00 Thon Ravigote AFFENTHALER SPATBURGUNDER KABINETT - Affenflasche Qualitatswein mit Pradikat A.P.Nr. Erzeuger-Abfullung Zentralk. B.W.G. vollmundig feine Art La tranche de melon frappe Kingfish au vin blanc Frittatensuppe 1949 Graves Superieur \"La Merveille\" Three Feathers V. S. R. Rye A Prime Veal Cutlet a la Holstein with Egg Boston Fish Chowder, bowl Punch Cognac Codfish, Bretonne Home-made Apple Pie a la mode'"
      ]
     },
     "metadata": {},
     "execution_count": 28
    }
   ],
   "source": [
    "resto_dishes = resto_df.loc[resto_df['resto_id'] == 45][\"dishes\"].tolist()[0]\n",
    "resto_dishes"
   ]
  },
  {
   "cell_type": "code",
   "execution_count": 38,
   "metadata": {},
   "outputs": [],
   "source": [
    "def get_similarity(resto_id):\n",
    "    key_dishes = resto_df.loc[resto_df['resto_id'] == resto_id][\"dishes\"].tolist()[0]\n",
    "    kw_vector = dictionary.doc2bow(nltk.word_tokenize(key_dishes))\n",
    "    sim = index[tfidf[kw_vector]]\n",
    "    print(sim.argsort()[:-100:-1] )\n",
    "    print(sim[80])\n",
    "    #for i in range(len(sim)):\n",
    "    #    print('keyword is similar to Resto%d: %.2f' % (i + 1, sim[i]))"
   ]
  },
  {
   "cell_type": "code",
   "execution_count": 39,
   "metadata": {},
   "outputs": [
    {
     "output_type": "stream",
     "name": "stdout",
     "text": [
      "[ 45  80 167 190 189  31  95 135  24  12 105 154  42  98 115  30 161  23\n 188  39 132  26  17 113  94   9 108 103 127   1   3  35 178 196 199  40\n 173 172  61  18  66  64 147  60 156 179 110  36 109  22  33 137 117 134\n  99 166  70  58 175 153 183  83  89  25  11 133  56 124  34 111 140 106\n   0  13 101 149 168 100 170 155  48 125 180  14  52 195  69  54  92 181\n 171  85   5 129  19  65 177  28 158]\n0.062425323\n"
     ]
    }
   ],
   "source": [
    "get_similarity(45)"
   ]
  },
  {
   "cell_type": "code",
   "execution_count": null,
   "metadata": {},
   "outputs": [],
   "source": []
  }
 ]
}